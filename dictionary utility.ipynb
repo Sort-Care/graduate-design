{
 "cells": [
  {
   "cell_type": "code",
   "execution_count": 23,
   "metadata": {
    "collapsed": true
   },
   "outputs": [],
   "source": [
    "prod_dict = {1:0.8, 2:0.8, 3:0.6}\n",
    "name_dict = {1:0.6, 3:0.7, 5:0.9}"
   ]
  },
  {
   "cell_type": "code",
   "execution_count": 24,
   "metadata": {
    "collapsed": false
   },
   "outputs": [],
   "source": [
    "result_dict = dict()\n",
    "for k,v in prod_dict.items():\n",
    "    result_dict.update({k:round(v * 0.5, 2)})"
   ]
  },
  {
   "cell_type": "code",
   "execution_count": 27,
   "metadata": {
    "collapsed": false
   },
   "outputs": [
    {
     "name": "stdout",
     "output_type": "stream",
     "text": [
      "{1: 0.7, 2: 0.4, 3: 0.65, 5: 0.45}\n"
     ]
    }
   ],
   "source": [
    "print result_dict"
   ]
  },
  {
   "cell_type": "code",
   "execution_count": 26,
   "metadata": {
    "collapsed": false
   },
   "outputs": [],
   "source": [
    "for k, v in name_dict.items():\n",
    "    if k in result_dict:\n",
    "        tmp_score = result_dict[k]\n",
    "        result_dict.update({k: round(tmp_score + 0.5 * v, 2) })\n",
    "    else:\n",
    "        result_dict.update({k:round(v * 0.5, 2)})"
   ]
  },
  {
   "cell_type": "code",
   "execution_count": null,
   "metadata": {
    "collapsed": true
   },
   "outputs": [],
   "source": []
  }
 ],
 "metadata": {
  "kernelspec": {
   "display_name": "Python 2",
   "language": "python",
   "name": "python2"
  },
  "language_info": {
   "codemirror_mode": {
    "name": "ipython",
    "version": 2
   },
   "file_extension": ".py",
   "mimetype": "text/x-python",
   "name": "python",
   "nbconvert_exporter": "python",
   "pygments_lexer": "ipython2",
   "version": "2.7.11"
  }
 },
 "nbformat": 4,
 "nbformat_minor": 0
}
