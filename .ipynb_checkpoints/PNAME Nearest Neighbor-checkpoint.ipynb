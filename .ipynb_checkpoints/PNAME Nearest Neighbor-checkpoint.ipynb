{
 "cells": [
  {
   "cell_type": "code",
   "execution_count": 1,
   "metadata": {
    "collapsed": true
   },
   "outputs": [],
   "source": [
    "import graphlab as gl"
   ]
  },
  {
   "cell_type": "code",
   "execution_count": 2,
   "metadata": {
    "collapsed": true
   },
   "outputs": [],
   "source": [
    "import pymysql"
   ]
  },
  {
   "cell_type": "code",
   "execution_count": 3,
   "metadata": {
    "collapsed": true
   },
   "outputs": [],
   "source": [
    "config = {\n",
    "    'host': 'localhost',\n",
    "    'user': 'root',\n",
    "    'password': '123456',\n",
    "    'db': 'prod_schema',\n",
    "    'charset': 'utf8mb4',\n",
    "    'cursorclass': pymysql.cursors.DictCursor\n",
    "}\n",
    "def db_execute(config, sql):\n",
    "    connection = pymysql.connect(**config)\n",
    "    try:\n",
    "        with connection.cursor() as cursor:\n",
    "            cursor.execute(sql)\n",
    "        connection.commit()\n",
    "        return True\n",
    "    finally:\n",
    "        connection.close()\n",
    "        \n",
    "def db_query(config, sql):\n",
    "    connection = pymysql.connect(**config)\n",
    "    try:\n",
    "        with connection.cursor() as cursor:\n",
    "            cursor.execute(sql)\n",
    "            result = cursor.fetchall()\n",
    "            return result\n",
    "    finally:\n",
    "        connection.close()"
   ]
  },
  {
   "cell_type": "code",
   "execution_count": 4,
   "metadata": {
    "collapsed": true
   },
   "outputs": [],
   "source": [
    "import jieba\n",
    "from graphlab import SFrame\n",
    "from graphlab import SArray\n",
    "import jieba.analyse"
   ]
  },
  {
   "cell_type": "code",
   "execution_count": 5,
   "metadata": {
    "collapsed": true
   },
   "outputs": [],
   "source": [
    "def query_to_SFrame(config, sql):\n",
    "    result = db_query(config, sql)\n",
    "    sf = gl.SFrame(result)\n",
    "    result_sf = sf.unpack('X1', column_name_prefix='')\n",
    "    return result_sf"
   ]
  },
  {
   "cell_type": "code",
   "execution_count": 6,
   "metadata": {
    "collapsed": true
   },
   "outputs": [],
   "source": [
    "def column_to_tfidf(column):\n",
    "    result = list()\n",
    "    for content in column:\n",
    "        tags = jieba.analyse.extract_tags(content, topK=8, withWeight=True)\n",
    "        result.append(dict(tags))\n",
    "    return SArray(result)"
   ]
  },
  {
   "cell_type": "code",
   "execution_count": 7,
   "metadata": {
    "collapsed": false
   },
   "outputs": [
    {
     "name": "stderr",
     "output_type": "stream",
     "text": [
      "[INFO] graphlab.cython.cy_server: GraphLab Create v2.1 started. Logging: /tmp/graphlab_server_1494425116.log\n"
     ]
    },
    {
     "name": "stdout",
     "output_type": "stream",
     "text": [
      "This non-commercial license of GraphLab Create for academic use is assigned to workingjhy@gmail.com and will expire on April 29, 2018.\n"
     ]
    }
   ],
   "source": [
    "prod_sf = query_to_SFrame(config, \"select * from prod_schema.prod_info\")"
   ]
  },
  {
   "cell_type": "code",
   "execution_count": 8,
   "metadata": {
    "collapsed": false
   },
   "outputs": [
    {
     "data": {
      "text/plain": [
       "['pid', 'pname', 'pprice']"
      ]
     },
     "execution_count": 8,
     "metadata": {},
     "output_type": "execute_result"
    }
   ],
   "source": [
    "prod_sf.column_names()"
   ]
  },
  {
   "cell_type": "code",
   "execution_count": 9,
   "metadata": {
    "collapsed": false
   },
   "outputs": [
    {
     "name": "stderr",
     "output_type": "stream",
     "text": [
      "Building prefix dict from the default dictionary ...\n",
      "Loading model from cache /var/folders/nr/hxpbrpxj6fddzg_1bm2y2_100000gq/T/jieba.cache\n",
      "Loading model cost 0.387 seconds.\n",
      "Prefix dict has been built succesfully.\n"
     ]
    }
   ],
   "source": [
    "prod_sf['tf_idf'] = column_to_tfidf(prod_sf['pname'])"
   ]
  },
  {
   "cell_type": "code",
   "execution_count": 10,
   "metadata": {
    "collapsed": false
   },
   "outputs": [
    {
     "data": {
      "text/html": [
       "<pre>Starting brute force nearest neighbors model training.</pre>"
      ],
      "text/plain": [
       "Starting brute force nearest neighbors model training."
      ]
     },
     "metadata": {},
     "output_type": "display_data"
    }
   ],
   "source": [
    "prod_model = gl.nearest_neighbors.create(prod_sf, label='pid', features = ['tf_idf'], \n",
    "                                         method='auto', distance = 'euclidean')"
   ]
  },
  {
   "cell_type": "code",
   "execution_count": 13,
   "metadata": {
    "collapsed": false
   },
   "outputs": [],
   "source": [
    "for prod in prod_sf:\n",
    "    nearest = prod_model.query(prod_sf[prod_sf['pid'] == prod['pid']], label='pid', k = 6, verbose=False)\n",
    "    for rec in nearest:\n",
    "        sql = \"insert into prod_schema.prod_nk (pid, kn_pid, distance, rank) values (%d, %d, %.4f, %d)\" % (rec['query_label'], rec['reference_label'], rec['distance'], rec['rank'] )\n",
    "        db_execute(config, sql)"
   ]
  },
  {
   "cell_type": "code",
   "execution_count": null,
   "metadata": {
    "collapsed": true
   },
   "outputs": [],
   "source": []
  }
 ],
 "metadata": {
  "kernelspec": {
   "display_name": "Python 2",
   "language": "python",
   "name": "python2"
  },
  "language_info": {
   "codemirror_mode": {
    "name": "ipython",
    "version": 2
   },
   "file_extension": ".py",
   "mimetype": "text/x-python",
   "name": "python",
   "nbconvert_exporter": "python",
   "pygments_lexer": "ipython2",
   "version": "2.7.11"
  }
 },
 "nbformat": 4,
 "nbformat_minor": 0
}
