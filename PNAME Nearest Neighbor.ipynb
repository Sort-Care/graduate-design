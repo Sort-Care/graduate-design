{
 "cells": [
  {
   "cell_type": "code",
   "execution_count": 2,
   "metadata": {
    "collapsed": true
   },
   "outputs": [],
   "source": [
    "import graphlab as gl"
   ]
  },
  {
   "cell_type": "code",
   "execution_count": 3,
   "metadata": {
    "collapsed": true
   },
   "outputs": [],
   "source": [
    "import pymysql"
   ]
  },
  {
   "cell_type": "code",
   "execution_count": 4,
   "metadata": {
    "collapsed": true
   },
   "outputs": [],
   "source": [
    "config = {\n",
    "    'host': 'localhost',\n",
    "    'user': 'root',\n",
    "    'password': '123456',\n",
    "    'db': 'prod_schema',\n",
    "    'charset': 'utf8mb4',\n",
    "    'cursorclass': pymysql.cursors.DictCursor\n",
    "}\n",
    "def db_execute(config, sql):\n",
    "    connection = pymysql.connect(**config)\n",
    "    try:\n",
    "        with connection.cursor() as cursor:\n",
    "            cursor.execute(sql)\n",
    "        connection.commit()\n",
    "        return True\n",
    "    finally:\n",
    "        connection.close()\n",
    "        \n",
    "def db_query(config, sql):\n",
    "    connection = pymysql.connect(**config)\n",
    "    try:\n",
    "        with connection.cursor() as cursor:\n",
    "            cursor.execute(sql)\n",
    "            result = cursor.fetchall()\n",
    "            return result\n",
    "    finally:\n",
    "        connection.close()"
   ]
  },
  {
   "cell_type": "code",
   "execution_count": 5,
   "metadata": {
    "collapsed": true
   },
   "outputs": [],
   "source": [
    "import jieba\n",
    "from graphlab import SFrame\n",
    "from graphlab import SArray\n",
    "import jieba.analyse"
   ]
  },
  {
   "cell_type": "code",
   "execution_count": 6,
   "metadata": {
    "collapsed": true
   },
   "outputs": [],
   "source": [
    "def query_to_SFrame(config, sql):\n",
    "    result = db_query(config, sql)\n",
    "    sf = gl.SFrame(result)\n",
    "    result_sf = sf.unpack('X1', column_name_prefix='')\n",
    "    return result_sf"
   ]
  },
  {
   "cell_type": "code",
   "execution_count": 7,
   "metadata": {
    "collapsed": true
   },
   "outputs": [],
   "source": [
    "def column_to_tfidf(column):\n",
    "    result = list()\n",
    "    for content in column:\n",
    "        tags = jieba.analyse.extract_tags(content, topK=8, withWeight=True)\n",
    "        result.append(dict(tags))\n",
    "    return SArray(result)"
   ]
  },
  {
   "cell_type": "code",
   "execution_count": 8,
   "metadata": {
    "collapsed": false
   },
   "outputs": [
    {
     "name": "stderr",
     "output_type": "stream",
     "text": [
      "[INFO] graphlab.cython.cy_server: GraphLab Create v2.1 started. Logging: /tmp/graphlab_server_1494985539.log\n"
     ]
    },
    {
     "name": "stdout",
     "output_type": "stream",
     "text": [
      "This non-commercial license of GraphLab Create for academic use is assigned to workingjhy@gmail.com and will expire on April 29, 2018.\n"
     ]
    }
   ],
   "source": [
    "prod_sf = query_to_SFrame(config, \"select * from prod_schema.prod_info\")"
   ]
  },
  {
   "cell_type": "code",
   "execution_count": 8,
   "metadata": {
    "collapsed": false
   },
   "outputs": [
    {
     "data": {
      "text/plain": [
       "['pid', 'pname', 'pprice']"
      ]
     },
     "execution_count": 8,
     "metadata": {},
     "output_type": "execute_result"
    }
   ],
   "source": [
    "prod_sf.column_names()"
   ]
  },
  {
   "cell_type": "code",
   "execution_count": 9,
   "metadata": {
    "collapsed": false
   },
   "outputs": [
    {
     "name": "stderr",
     "output_type": "stream",
     "text": [
      "Building prefix dict from the default dictionary ...\n",
      "Dumping model to file cache /var/folders/nr/hxpbrpxj6fddzg_1bm2y2_100000gq/T/jieba.cache\n",
      "Loading model cost 1.553 seconds.\n",
      "Prefix dict has been built succesfully.\n"
     ]
    }
   ],
   "source": [
    "prod_sf['tf_idf'] = column_to_tfidf(prod_sf['pname'])"
   ]
  },
  {
   "cell_type": "code",
   "execution_count": 10,
   "metadata": {
    "collapsed": false
   },
   "outputs": [
    {
     "data": {
      "text/html": [
       "<pre>Starting brute force nearest neighbors model training.</pre>"
      ],
      "text/plain": [
       "Starting brute force nearest neighbors model training."
      ]
     },
     "metadata": {},
     "output_type": "display_data"
    }
   ],
   "source": [
    "prod_model = gl.nearest_neighbors.create(prod_sf, label='pname', features = ['tf_idf'], \n",
    "                                         method='auto', distance = 'euclidean')"
   ]
  },
  {
   "cell_type": "code",
   "execution_count": 13,
   "metadata": {
    "collapsed": false
   },
   "outputs": [],
   "source": [
    "for prod in prod_sf:\n",
    "    nearest = prod_model.query(prod_sf[prod_sf['pid'] == prod['pid']], label='pid', k = 6, verbose=False)\n",
    "    for rec in nearest:\n",
    "        sql = \"insert into prod_schema.prod_nk (pid, kn_pid, distance, rank) values (%d, %d, %.4f, %d)\" % (rec['query_label'], rec['reference_label'], rec['distance'], rec['rank'] )\n",
    "        db_execute(config, sql)"
   ]
  },
  {
   "cell_type": "code",
   "execution_count": 7,
   "metadata": {
    "collapsed": false
   },
   "outputs": [
    {
     "name": "stdout",
     "output_type": "stream",
     "text": [
      "This non-commercial license of GraphLab Create for academic use is assigned to workingjhy@gmail.com and will expire on April 29, 2018.\n"
     ]
    },
    {
     "name": "stderr",
     "output_type": "stream",
     "text": [
      "[INFO] graphlab.cython.cy_server: GraphLab Create v2.1 started. Logging: /tmp/graphlab_server_1494674304.log\n"
     ]
    }
   ],
   "source": [
    "prod_attri_sf = query_to_SFrame(config, \"select * from prod_schema.prod_attri\")"
   ]
  },
  {
   "cell_type": "code",
   "execution_count": 8,
   "metadata": {
    "collapsed": false
   },
   "outputs": [
    {
     "name": "stderr",
     "output_type": "stream",
     "text": [
      "Building prefix dict from the default dictionary ...\n",
      "Dumping model to file cache /var/folders/nr/hxpbrpxj6fddzg_1bm2y2_100000gq/T/jieba.cache\n",
      "Loading model cost 1.722 seconds.\n",
      "Prefix dict has been built succesfully.\n"
     ]
    }
   ],
   "source": [
    "prod_attri_sf['tf_idf'] = column_to_tfidf(prod_attri_sf['serie'])"
   ]
  },
  {
   "cell_type": "code",
   "execution_count": 10,
   "metadata": {
    "collapsed": false
   },
   "outputs": [
    {
     "data": {
      "text/html": [
       "<pre>Starting brute force nearest neighbors model training.</pre>"
      ],
      "text/plain": [
       "Starting brute force nearest neighbors model training."
      ]
     },
     "metadata": {},
     "output_type": "display_data"
    }
   ],
   "source": [
    "prod_model2 = gl.nearest_neighbors.create(prod_attri_sf, label='pid', features = ['tf_idf'], \n",
    "                                         method='auto', distance = 'euclidean')"
   ]
  },
  {
   "cell_type": "code",
   "execution_count": 17,
   "metadata": {
    "collapsed": false
   },
   "outputs": [
    {
     "name": "stdout",
     "output_type": "stream",
     "text": [
      "+-------------+-----------------+---------------+------+\n",
      "| query_label | reference_label |    distance   | rank |\n",
      "+-------------+-----------------+---------------+------+\n",
      "|      1      |        1        |      0.0      |  1   |\n",
      "|      1      |        32       | 5.40530225184 |  2   |\n",
      "|      1      |        9        | 6.68100214129 |  3   |\n",
      "|      1      |        16       | 6.68100214129 |  4   |\n",
      "|      1      |        24       | 6.68100214129 |  5   |\n",
      "|      1      |        25       | 6.68100214129 |  6   |\n",
      "|      1      |        26       | 6.68100214129 |  7   |\n",
      "|      1      |        27       | 6.68100214129 |  8   |\n",
      "|      1      |        42       | 6.68100214129 |  9   |\n",
      "|      1      |        53       | 6.68100214129 |  10  |\n",
      "|      1      |        54       | 6.68100214129 |  11  |\n",
      "|      1      |        55       | 6.68100214129 |  12  |\n",
      "|      1      |        57       | 6.68100214129 |  13  |\n",
      "|      1      |        58       | 6.68100214129 |  14  |\n",
      "|      1      |        59       | 6.68100214129 |  15  |\n",
      "|      1      |        60       | 6.68100214129 |  16  |\n",
      "|      1      |        61       | 6.68100214129 |  17  |\n",
      "|      1      |        62       | 6.68100214129 |  18  |\n",
      "|      1      |        63       | 6.68100214129 |  19  |\n",
      "|      1      |        64       | 6.68100214129 |  20  |\n",
      "|      1      |        65       | 6.68100214129 |  21  |\n",
      "|      1      |        66       | 6.68100214129 |  22  |\n",
      "|      1      |        67       | 6.68100214129 |  23  |\n",
      "|      1      |        68       | 6.68100214129 |  24  |\n",
      "|      1      |        69       | 6.68100214129 |  25  |\n",
      "|      1      |        70       | 6.68100214129 |  26  |\n",
      "|      1      |        71       | 6.68100214129 |  27  |\n",
      "|      1      |        72       | 6.68100214129 |  28  |\n",
      "|      1      |        73       | 6.68100214129 |  29  |\n",
      "|      1      |        74       | 6.68100214129 |  30  |\n",
      "|      1      |        75       | 6.68100214129 |  31  |\n",
      "|      1      |        76       | 6.68100214129 |  32  |\n",
      "|      1      |        77       | 6.68100214129 |  33  |\n",
      "|      1      |       100       | 6.68100214129 |  34  |\n",
      "|      1      |       101       | 6.68100214129 |  35  |\n",
      "|      1      |       103       | 6.68100214129 |  36  |\n",
      "|      1      |       104       | 6.68100214129 |  37  |\n",
      "|      1      |       105       | 6.68100214129 |  38  |\n",
      "|      1      |       106       | 6.68100214129 |  39  |\n",
      "|      1      |       108       | 6.68100214129 |  40  |\n",
      "|      1      |       109       | 6.68100214129 |  41  |\n",
      "|      1      |       110       | 6.68100214129 |  42  |\n",
      "|      1      |       111       | 6.68100214129 |  43  |\n",
      "|      1      |       112       | 6.68100214129 |  44  |\n",
      "|      1      |       114       | 6.68100214129 |  45  |\n",
      "|      1      |       115       | 6.68100214129 |  46  |\n",
      "|      1      |       116       | 6.68100214129 |  47  |\n",
      "|      1      |       117       | 6.68100214129 |  48  |\n",
      "|      1      |       118       | 6.68100214129 |  49  |\n",
      "|      1      |       119       | 6.68100214129 |  50  |\n",
      "|      1      |       122       | 6.68100214129 |  51  |\n",
      "|      1      |       123       | 6.68100214129 |  52  |\n",
      "|      1      |       124       | 6.68100214129 |  53  |\n",
      "|      1      |       125       | 6.68100214129 |  54  |\n",
      "|      1      |       126       | 6.68100214129 |  55  |\n",
      "|      1      |       129       | 6.68100214129 |  56  |\n",
      "|      1      |       139       | 6.68100214129 |  57  |\n",
      "|      1      |       147       | 6.68100214129 |  58  |\n",
      "|      1      |       148       | 6.68100214129 |  59  |\n",
      "|      1      |       150       | 6.68100214129 |  60  |\n",
      "|      1      |       151       | 6.68100214129 |  61  |\n",
      "|      1      |       152       | 6.68100214129 |  62  |\n",
      "|      1      |       153       | 6.68100214129 |  63  |\n",
      "|      1      |       155       | 6.68100214129 |  64  |\n",
      "|      1      |       156       | 6.68100214129 |  65  |\n",
      "|      1      |       157       | 6.68100214129 |  66  |\n",
      "|      1      |       158       | 6.68100214129 |  67  |\n",
      "|      1      |       159       | 6.68100214129 |  68  |\n",
      "|      1      |       160       | 6.68100214129 |  69  |\n",
      "|      1      |       161       | 6.68100214129 |  70  |\n",
      "|      1      |       162       | 6.68100214129 |  71  |\n",
      "|      1      |       163       | 6.68100214129 |  72  |\n",
      "|      1      |       164       | 6.68100214129 |  73  |\n",
      "|      1      |       165       | 6.68100214129 |  74  |\n",
      "|      1      |       166       | 6.68100214129 |  75  |\n",
      "|      1      |       167       | 6.68100214129 |  76  |\n",
      "|      1      |       168       | 6.68100214129 |  77  |\n",
      "|      1      |       169       | 6.68100214129 |  78  |\n",
      "|      1      |       170       | 6.68100214129 |  79  |\n",
      "|      1      |       171       | 6.68100214129 |  80  |\n",
      "|      1      |       172       | 6.68100214129 |  81  |\n",
      "|      1      |       173       | 6.68100214129 |  82  |\n",
      "|      1      |       176       | 6.68100214129 |  83  |\n",
      "|      1      |       178       | 6.68100214129 |  84  |\n",
      "|      1      |       182       | 6.68100214129 |  85  |\n",
      "|      1      |       183       | 6.68100214129 |  86  |\n",
      "|      1      |       184       | 6.68100214129 |  87  |\n",
      "|      1      |       185       | 6.68100214129 |  88  |\n",
      "|      1      |       186       | 6.68100214129 |  89  |\n",
      "|      1      |       187       | 6.68100214129 |  90  |\n",
      "|      1      |       188       | 6.68100214129 |  91  |\n",
      "|      1      |       189       | 6.68100214129 |  92  |\n",
      "|      1      |       190       | 6.68100214129 |  93  |\n",
      "|      1      |       191       | 6.68100214129 |  94  |\n",
      "|      1      |       192       | 6.68100214129 |  95  |\n",
      "|      1      |       193       | 6.68100214129 |  96  |\n",
      "|      1      |       194       | 6.68100214129 |  97  |\n",
      "|      1      |       195       | 6.68100214129 |  98  |\n",
      "|      1      |       196       | 6.68100214129 |  99  |\n",
      "|      1      |       197       | 6.68100214129 | 100  |\n",
      "|      1      |       198       | 6.68100214129 | 101  |\n",
      "|      1      |       199       | 6.68100214129 | 102  |\n",
      "|      1      |       200       | 6.68100214129 | 103  |\n",
      "|      1      |       202       | 6.68100214129 | 104  |\n",
      "|      1      |       206       | 6.68100214129 | 105  |\n",
      "|      1      |       208       | 6.68100214129 | 106  |\n",
      "|      1      |       209       | 6.68100214129 | 107  |\n",
      "|      1      |       210       | 6.68100214129 | 108  |\n",
      "|      1      |       211       | 6.68100214129 | 109  |\n",
      "|      1      |       212       | 6.68100214129 | 110  |\n",
      "|      1      |       213       | 6.68100214129 | 111  |\n",
      "|      1      |       214       | 6.68100214129 | 112  |\n",
      "|      1      |       218       | 6.68100214129 | 113  |\n",
      "|      1      |       219       | 6.68100214129 | 114  |\n",
      "|      1      |       220       | 6.68100214129 | 115  |\n",
      "|      1      |       221       | 6.68100214129 | 116  |\n",
      "|      1      |       222       | 6.68100214129 | 117  |\n",
      "|      1      |       223       | 6.68100214129 | 118  |\n",
      "|      1      |       224       | 6.68100214129 | 119  |\n",
      "|      1      |       225       | 6.68100214129 | 120  |\n",
      "|      1      |       229       | 6.68100214129 | 121  |\n",
      "|      1      |       230       | 6.68100214129 | 122  |\n",
      "|      1      |       231       | 6.68100214129 | 123  |\n",
      "|      1      |       232       | 6.68100214129 | 124  |\n",
      "|      1      |       233       | 6.68100214129 | 125  |\n",
      "|      1      |       234       | 6.68100214129 | 126  |\n",
      "|      1      |       235       | 6.68100214129 | 127  |\n",
      "|      1      |       236       | 6.68100214129 | 128  |\n",
      "|      1      |       237       | 6.68100214129 | 129  |\n",
      "|      1      |       238       | 6.68100214129 | 130  |\n",
      "|      1      |       239       | 6.68100214129 | 131  |\n",
      "|      1      |       240       | 6.68100214129 | 132  |\n",
      "|      1      |       241       | 6.68100214129 | 133  |\n",
      "|      1      |       242       | 6.68100214129 | 134  |\n",
      "|      1      |       243       | 6.68100214129 | 135  |\n",
      "|      1      |       244       | 6.68100214129 | 136  |\n",
      "|      1      |       245       | 6.68100214129 | 137  |\n",
      "|      1      |       246       | 6.68100214129 | 138  |\n",
      "|      1      |       247       | 6.68100214129 | 139  |\n",
      "|      1      |       248       | 6.68100214129 | 140  |\n",
      "|      1      |       249       | 6.68100214129 | 141  |\n",
      "|      1      |       250       | 6.68100214129 | 142  |\n",
      "|      1      |       251       | 6.68100214129 | 143  |\n",
      "|      1      |       252       | 6.68100214129 | 144  |\n",
      "|      1      |       253       | 6.68100214129 | 145  |\n",
      "|      1      |       254       | 6.68100214129 | 146  |\n",
      "|      1      |       255       | 6.68100214129 | 147  |\n",
      "|      1      |       256       | 6.68100214129 | 148  |\n",
      "|      1      |       257       | 6.68100214129 | 149  |\n",
      "|      1      |       258       | 6.68100214129 | 150  |\n",
      "|      1      |       259       | 6.68100214129 | 151  |\n",
      "|      1      |       260       | 6.68100214129 | 152  |\n",
      "|      1      |       261       | 6.68100214129 | 153  |\n",
      "|      1      |       262       | 6.68100214129 | 154  |\n",
      "|      1      |       263       | 6.68100214129 | 155  |\n",
      "|      1      |       264       | 6.68100214129 | 156  |\n",
      "|      1      |       265       | 6.68100214129 | 157  |\n",
      "|      1      |       266       | 6.68100214129 | 158  |\n",
      "|      1      |       267       | 6.68100214129 | 159  |\n",
      "|      1      |       268       | 6.68100214129 | 160  |\n",
      "|      1      |       269       | 6.68100214129 | 161  |\n",
      "|      1      |       270       | 6.68100214129 | 162  |\n",
      "|      1      |        8        | 7.25291414542 | 163  |\n",
      "|      1      |        18       |  7.303232546  | 164  |\n",
      "|      1      |        28       | 7.31572683092 | 165  |\n",
      "|      1      |        45       | 7.34291937066 | 166  |\n",
      "|      1      |        10       | 7.36901155237 | 167  |\n",
      "|      1      |        17       | 7.51967387032 | 168  |\n",
      "|      1      |       135       | 7.56578992702 | 169  |\n",
      "|      1      |        2        | 7.56883190975 | 170  |\n",
      "|      1      |       140       | 7.81157203543 | 171  |\n",
      "|      1      |        93       | 7.84063971653 | 172  |\n",
      "|      1      |       138       | 7.86228766223 | 173  |\n",
      "|      1      |       113       | 7.86263726113 | 174  |\n",
      "|      1      |       145       | 7.92920634733 | 175  |\n",
      "|      1      |        44       |  7.9397707032 | 176  |\n",
      "|      1      |        50       |  7.9779534922 | 177  |\n",
      "|      1      |        7        | 7.99347913883 | 178  |\n",
      "|      1      |        6        | 7.99842250907 | 179  |\n",
      "|      1      |       146       | 8.00137538373 | 180  |\n",
      "|      1      |       144       | 8.00322699028 | 181  |\n",
      "|      1      |       143       |  8.0048583129 | 182  |\n",
      "|      1      |       130       | 8.02498863467 | 183  |\n",
      "|      1      |        85       | 8.03003442116 | 184  |\n",
      "|      1      |        48       | 8.04293853583 | 185  |\n",
      "|      1      |       137       | 8.09439547172 | 186  |\n",
      "|      1      |        88       | 8.09985821265 | 187  |\n",
      "|      1      |        89       | 8.11172801353 | 188  |\n",
      "|      1      |        23       | 8.13991955722 | 189  |\n",
      "|      1      |       141       | 8.14455631222 | 190  |\n",
      "|      1      |        49       |  8.1467239637 | 191  |\n",
      "|      1      |        81       | 8.15441702831 | 192  |\n",
      "|      1      |        37       | 8.17301397622 | 193  |\n",
      "|      1      |        15       | 8.17451489474 | 194  |\n",
      "|      1      |       102       | 8.18065408391 | 195  |\n",
      "|      1      |        94       | 8.20211586141 | 196  |\n",
      "|      1      |       128       | 8.20808806463 | 197  |\n",
      "|      1      |       107       |  8.2435710596 | 198  |\n",
      "|      1      |        46       | 8.26765100959 | 199  |\n",
      "|      1      |        47       | 8.27376580645 | 200  |\n",
      "+-------------+-----------------+---------------+------+\n",
      "[200 rows x 4 columns]\n",
      "\n"
     ]
    }
   ],
   "source": [
    "prod_model2.query(prod_attri_sf[prod_attri_sf['pid'] == 1], label='pid', k = 200,verbose=False).print_rows(num_rows=200)"
   ]
  },
  {
   "cell_type": "code",
   "execution_count": 14,
   "metadata": {
    "collapsed": false
   },
   "outputs": [
    {
     "data": {
      "text/html": [
       "<div style=\"max-height:1000px;max-width:1500px;overflow:auto;\"><table frame=\"box\" rules=\"cols\">\n",
       "    <tr>\n",
       "        <th style=\"padding-left: 1em; padding-right: 1em; text-align: center\">query_label</th>\n",
       "        <th style=\"padding-left: 1em; padding-right: 1em; text-align: center\">reference_label</th>\n",
       "        <th style=\"padding-left: 1em; padding-right: 1em; text-align: center\">distance</th>\n",
       "        <th style=\"padding-left: 1em; padding-right: 1em; text-align: center\">rank</th>\n",
       "    </tr>\n",
       "    <tr>\n",
       "        <td style=\"padding-left: 1em; padding-right: 1em; text-align: center; vertical-align: top\">LUSH岚舒 日本正品<br>BIG丰盈洗发露 蓬松 ...</td>\n",
       "        <td style=\"padding-left: 1em; padding-right: 1em; text-align: center; vertical-align: top\">LUSH岚舒 日本正品<br>BIG丰盈洗发露 蓬松 ...</td>\n",
       "        <td style=\"padding-left: 1em; padding-right: 1em; text-align: center; vertical-align: top\">0.0</td>\n",
       "        <td style=\"padding-left: 1em; padding-right: 1em; text-align: center; vertical-align: top\">1</td>\n",
       "    </tr>\n",
       "    <tr>\n",
       "        <td style=\"padding-left: 1em; padding-right: 1em; text-align: center; vertical-align: top\">LUSH岚舒 日本正品<br>BIG丰盈洗发露 蓬松 ...</td>\n",
       "        <td style=\"padding-left: 1em; padding-right: 1em; text-align: center; vertical-align: top\">杂果宾治洗发露 日<br>本LUSH岚舒控油舒缓 ...</td>\n",
       "        <td style=\"padding-left: 1em; padding-right: 1em; text-align: center; vertical-align: top\">1.94041065431</td>\n",
       "        <td style=\"padding-left: 1em; padding-right: 1em; text-align: center; vertical-align: top\">2</td>\n",
       "    </tr>\n",
       "    <tr>\n",
       "        <td style=\"padding-left: 1em; padding-right: 1em; text-align: center; vertical-align: top\">LUSH岚舒 日本正品<br>BIG丰盈洗发露 蓬松 ...</td>\n",
       "        <td style=\"padding-left: 1em; padding-right: 1em; text-align: center; vertical-align: top\">LUSH岚舒 日本正品�<br>�罗亮泽洗发露 ...</td>\n",
       "        <td style=\"padding-left: 1em; padding-right: 1em; text-align: center; vertical-align: top\">2.02918189075</td>\n",
       "        <td style=\"padding-left: 1em; padding-right: 1em; text-align: center; vertical-align: top\">3</td>\n",
       "    </tr>\n",
       "    <tr>\n",
       "        <td style=\"padding-left: 1em; padding-right: 1em; text-align: center; vertical-align: top\">LUSH岚舒 日本正品<br>BIG丰盈洗发露 蓬松 ...</td>\n",
       "        <td style=\"padding-left: 1em; padding-right: 1em; text-align: center; vertical-align: top\">LUSH岚舒 日本正品�<br>�果爽洗发露 ...</td>\n",
       "        <td style=\"padding-left: 1em; padding-right: 1em; text-align: center; vertical-align: top\">2.04523130313</td>\n",
       "        <td style=\"padding-left: 1em; padding-right: 1em; text-align: center; vertical-align: top\">4</td>\n",
       "    </tr>\n",
       "    <tr>\n",
       "        <td style=\"padding-left: 1em; padding-right: 1em; text-align: center; vertical-align: top\">LUSH岚舒 日本正品<br>BIG丰盈洗发露 蓬松 ...</td>\n",
       "        <td style=\"padding-left: 1em; padding-right: 1em; text-align: center; vertical-align: top\">LUSH岚舒 日本正品�<br>�曲洗发露 损伤修� ...</td>\n",
       "        <td style=\"padding-left: 1em; padding-right: 1em; text-align: center; vertical-align: top\">2.30896973405</td>\n",
       "        <td style=\"padding-left: 1em; padding-right: 1em; text-align: center; vertical-align: top\">5</td>\n",
       "    </tr>\n",
       "    <tr>\n",
       "        <td style=\"padding-left: 1em; padding-right: 1em; text-align: center; vertical-align: top\">LUSH岚舒 日本正品<br>BIG丰盈洗发露 蓬松 ...</td>\n",
       "        <td style=\"padding-left: 1em; padding-right: 1em; text-align: center; vertical-align: top\">日本LUSH岚舒<br>薰衣迷手工洗发皂  ...</td>\n",
       "        <td style=\"padding-left: 1em; padding-right: 1em; text-align: center; vertical-align: top\">2.311619626</td>\n",
       "        <td style=\"padding-left: 1em; padding-right: 1em; text-align: center; vertical-align: top\">6</td>\n",
       "    </tr>\n",
       "    <tr>\n",
       "        <td style=\"padding-left: 1em; padding-right: 1em; text-align: center; vertical-align: top\">LUSH岚舒 日本正品<br>BIG丰盈洗发露 蓬松 ...</td>\n",
       "        <td style=\"padding-left: 1em; padding-right: 1em; text-align: center; vertical-align: top\">LUSH岚舒 日本正品�<br>�爱蜜糖儿洗发露 ...</td>\n",
       "        <td style=\"padding-left: 1em; padding-right: 1em; text-align: center; vertical-align: top\">2.40133684412</td>\n",
       "        <td style=\"padding-left: 1em; padding-right: 1em; text-align: center; vertical-align: top\">7</td>\n",
       "    </tr>\n",
       "    <tr>\n",
       "        <td style=\"padding-left: 1em; padding-right: 1em; text-align: center; vertical-align: top\">LUSH岚舒 日本正品<br>BIG丰盈洗发露 蓬松 ...</td>\n",
       "        <td style=\"padding-left: 1em; padding-right: 1em; text-align: center; vertical-align: top\">LUSH岚舒 日本正品<br>草本洗面膏 ...</td>\n",
       "        <td style=\"padding-left: 1em; padding-right: 1em; text-align: center; vertical-align: top\">2.52654607415</td>\n",
       "        <td style=\"padding-left: 1em; padding-right: 1em; text-align: center; vertical-align: top\">8</td>\n",
       "    </tr>\n",
       "    <tr>\n",
       "        <td style=\"padding-left: 1em; padding-right: 1em; text-align: center; vertical-align: top\">LUSH岚舒 日本正品<br>BIG丰盈洗发露 蓬松 ...</td>\n",
       "        <td style=\"padding-left: 1em; padding-right: 1em; text-align: center; vertical-align: top\">LUSH岚舒 日本正品<br>黑夜天使洗面膏 控 ...</td>\n",
       "        <td style=\"padding-left: 1em; padding-right: 1em; text-align: center; vertical-align: top\">2.57419932137</td>\n",
       "        <td style=\"padding-left: 1em; padding-right: 1em; text-align: center; vertical-align: top\">9</td>\n",
       "    </tr>\n",
       "    <tr>\n",
       "        <td style=\"padding-left: 1em; padding-right: 1em; text-align: center; vertical-align: top\">LUSH岚舒 日本正品<br>BIG丰盈洗发露 蓬松 ...</td>\n",
       "        <td style=\"padding-left: 1em; padding-right: 1em; text-align: center; vertical-align: top\">LUSH岚舒 英国正品<br>古铜面部修饰霜 保 ...</td>\n",
       "        <td style=\"padding-left: 1em; padding-right: 1em; text-align: center; vertical-align: top\">2.57488576553</td>\n",
       "        <td style=\"padding-left: 1em; padding-right: 1em; text-align: center; vertical-align: top\">10</td>\n",
       "    </tr>\n",
       "</table>\n",
       "[10 rows x 4 columns]<br/>\n",
       "</div>"
      ],
      "text/plain": [
       "Columns:\n",
       "\tquery_label\tstr\n",
       "\treference_label\tstr\n",
       "\tdistance\tfloat\n",
       "\trank\tint\n",
       "\n",
       "Rows: 10\n",
       "\n",
       "Data:\n",
       "+-----------------------------------------------+----------------------------------------------------+\n",
       "|                  query_label                  |                  reference_label                   |\n",
       "+-----------------------------------------------+----------------------------------------------------+\n",
       "| LUSH岚舒 日本正品 BIG丰盈洗发露 蓬松控油秀... |   LUSH岚舒 日本正品 BIG丰盈洗发露 蓬松控油秀...    |\n",
       "| LUSH岚舒 日本正品 BIG丰盈洗发露 蓬松控油秀... | 杂果宾治洗发露 日本LUSH岚舒控油舒缓正品滋润镇静... |\n",
       "| LUSH岚舒 日本正品 BIG丰盈洗发露 蓬松控油秀... | LUSH岚舒 日本正品紫罗亮泽洗发露 提升光泽洗发水...  |\n",
       "| LUSH岚舒 日本正品 BIG丰盈洗发露 蓬松控油秀... |  LUSH岚舒 日本正品鲜果爽洗发露 控油去屑洗发水 ...  |\n",
       "| LUSH岚舒 日本正品 BIG丰盈洗发露 蓬松控油秀... |  LUSH岚舒 日本正品卷曲洗发露 损伤修复洗发水男/...  |\n",
       "| LUSH岚舒 日本正品 BIG丰盈洗发露 蓬松控油秀... | 日本LUSH岚舒 薰衣迷手工洗发皂 正品控油抗菌洗头...  |\n",
       "| LUSH岚舒 日本正品 BIG丰盈洗发露 蓬松控油秀... |  LUSH岚舒 日本正品我爱蜜糖儿洗发露 水润亮泽 洗...  |\n",
       "| LUSH岚舒 日本正品 BIG丰盈洗发露 蓬松控油秀... |  LUSH岚舒 日本正品 草本洗面膏 控油清爽洁面手工...  |\n",
       "| LUSH岚舒 日本正品 BIG丰盈洗发露 蓬松控油秀... |  LUSH岚舒 日本正品 黑夜天使洗面膏 控油深层清洁...  |\n",
       "| LUSH岚舒 日本正品 BIG丰盈洗发露 蓬松控油秀... |  LUSH岚舒 英国正品 古铜面部修饰霜 保湿润色白皙...  |\n",
       "+-----------------------------------------------+----------------------------------------------------+\n",
       "+---------------+------+\n",
       "|    distance   | rank |\n",
       "+---------------+------+\n",
       "|      0.0      |  1   |\n",
       "| 1.94041065431 |  2   |\n",
       "| 2.02918189075 |  3   |\n",
       "| 2.04523130313 |  4   |\n",
       "| 2.30896973405 |  5   |\n",
       "|  2.311619626  |  6   |\n",
       "| 2.40133684412 |  7   |\n",
       "| 2.52654607415 |  8   |\n",
       "| 2.57419932137 |  9   |\n",
       "| 2.57488576553 |  10  |\n",
       "+---------------+------+\n",
       "[10 rows x 4 columns]"
      ]
     },
     "execution_count": 14,
     "metadata": {},
     "output_type": "execute_result"
    }
   ],
   "source": [
    "prod_model.query(prod_sf[prod_sf['pid'] == 1], label='pname', k = 10,verbose=False)"
   ]
  },
  {
   "cell_type": "code",
   "execution_count": null,
   "metadata": {
    "collapsed": true
   },
   "outputs": [],
   "source": []
  }
 ],
 "metadata": {
  "kernelspec": {
   "display_name": "Python 2",
   "language": "python",
   "name": "python2"
  },
  "language_info": {
   "codemirror_mode": {
    "name": "ipython",
    "version": 2
   },
   "file_extension": ".py",
   "mimetype": "text/x-python",
   "name": "python",
   "nbconvert_exporter": "python",
   "pygments_lexer": "ipython2",
   "version": "2.7.11"
  }
 },
 "nbformat": 4,
 "nbformat_minor": 0
}
