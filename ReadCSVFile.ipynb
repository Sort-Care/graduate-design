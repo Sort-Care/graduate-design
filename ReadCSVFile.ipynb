{
 "cells": [
  {
   "cell_type": "code",
   "execution_count": 1,
   "metadata": {
    "collapsed": true
   },
   "outputs": [],
   "source": [
    "import graphlab as gl\n",
    "from graphlab import SFrame\n",
    "import numpy\n",
    "import pymysql"
   ]
  },
  {
   "cell_type": "code",
   "execution_count": 2,
   "metadata": {
    "collapsed": false
   },
   "outputs": [
    {
     "name": "stdout",
     "output_type": "stream",
     "text": [
      "This non-commercial license of GraphLab Create for academic use is assigned to workingjhy@gmail.com and will expire on April 29, 2018.\n"
     ]
    },
    {
     "name": "stderr",
     "output_type": "stream",
     "text": [
      "[INFO] graphlab.cython.cy_server: GraphLab Create v2.1 started. Logging: /tmp/graphlab_server_1493539346.log\n"
     ]
    },
    {
     "data": {
      "text/html": [
       "<pre>Finished parsing file /Users/jihaoyu/Downloads/GraduateDesign/Code/LUSH.csv</pre>"
      ],
      "text/plain": [
       "Finished parsing file /Users/jihaoyu/Downloads/GraduateDesign/Code/LUSH.csv"
      ]
     },
     "metadata": {},
     "output_type": "display_data"
    },
    {
     "data": {
      "text/html": [
       "<pre>Parsing completed. Parsed 100 lines in 0.034712 secs.</pre>"
      ],
      "text/plain": [
       "Parsing completed. Parsed 100 lines in 0.034712 secs."
      ]
     },
     "metadata": {},
     "output_type": "display_data"
    },
    {
     "name": "stdout",
     "output_type": "stream",
     "text": [
      "------------------------------------------------------\n",
      "Inferred types from first 100 line(s) of file as \n",
      "column_type_hints=[int,str,int,str,int,int,int,str,str,dict,list,int,int,int,str,int,int,int,int,int,int,int,int]\n",
      "If parsing fails due to incorrect types, you can correct\n",
      "the inferred type list above and pass it to read_csv in\n",
      "the column_type_hints argument\n",
      "------------------------------------------------------\n"
     ]
    },
    {
     "data": {
      "text/html": [
       "<pre>Finished parsing file /Users/jihaoyu/Downloads/GraduateDesign/Code/LUSH.csv</pre>"
      ],
      "text/plain": [
       "Finished parsing file /Users/jihaoyu/Downloads/GraduateDesign/Code/LUSH.csv"
      ]
     },
     "metadata": {},
     "output_type": "display_data"
    },
    {
     "data": {
      "text/html": [
       "<pre>Parsing completed. Parsed 270 lines in 0.017095 secs.</pre>"
      ],
      "text/plain": [
       "Parsing completed. Parsed 270 lines in 0.017095 secs."
      ]
     },
     "metadata": {},
     "output_type": "display_data"
    }
   ],
   "source": [
    "sf = SFrame(data='LUSH.csv')"
   ]
  },
  {
   "cell_type": "code",
   "execution_count": null,
   "metadata": {
    "collapsed": false
   },
   "outputs": [],
   "source": [
    "len(sf)"
   ]
  },
  {
   "cell_type": "code",
   "execution_count": 3,
   "metadata": {
    "collapsed": false
   },
   "outputs": [
    {
     "data": {
      "text/plain": [
       "['offerId',\n",
       " 'subject',\n",
       " 'postCategryId',\n",
       " 'imageList',\n",
       " 'sendGoodsAddressId',\n",
       " 'freightTemplateId',\n",
       " 'termOfferProcess',\n",
       " 'details',\n",
       " 'details(sub)',\n",
       " 'productFeatureList',\n",
       " 'skuArray',\n",
       " 'productUnitWeight',\n",
       " 'amount',\n",
       " 'amountOnSale',\n",
       " 'priceRanges',\n",
       " 'unitPrice',\n",
       " 'isSupportOnlineTrade',\n",
       " 'isSupportMix',\n",
       " 'isSkuOffer',\n",
       " 'isSkuTradeSupported',\n",
       " 'isProcessingOffer',\n",
       " 'isPicAuthOffer',\n",
       " 'isPriceAuthOffer']"
      ]
     },
     "execution_count": 3,
     "metadata": {},
     "output_type": "execute_result"
    }
   ],
   "source": [
    "sf.column_names()"
   ]
  },
  {
   "cell_type": "code",
   "execution_count": null,
   "metadata": {
    "collapsed": false
   },
   "outputs": [],
   "source": [
    "type(sf[0]['productFeatureList'])"
   ]
  },
  {
   "cell_type": "code",
   "execution_count": null,
   "metadata": {
    "collapsed": false
   },
   "outputs": [],
   "source": [
    "sf[0]['productFeatureList']"
   ]
  },
  {
   "cell_type": "code",
   "execution_count": null,
   "metadata": {
    "collapsed": true
   },
   "outputs": [],
   "source": [
    "dict_keys = list()"
   ]
  },
  {
   "cell_type": "code",
   "execution_count": null,
   "metadata": {
    "collapsed": true
   },
   "outputs": [],
   "source": [
    "for i in range(len(sf)):\n",
    "    tmp_dict = sf[i]['productFeatureList']\n",
    "    for k,v in tmp_dict.items():\n",
    "        if k not in dict_keys:\n",
    "            dict_keys.append(k)"
   ]
  },
  {
   "cell_type": "code",
   "execution_count": null,
   "metadata": {
    "collapsed": false
   },
   "outputs": [],
   "source": [
    "print dict_keys"
   ]
  },
  {
   "cell_type": "code",
   "execution_count": null,
   "metadata": {
    "collapsed": false
   },
   "outputs": [],
   "source": [
    "sf[0]['subject'].decode('utf-8')"
   ]
  },
  {
   "cell_type": "code",
   "execution_count": null,
   "metadata": {
    "collapsed": false
   },
   "outputs": [],
   "source": [
    "print sf[0]['subject'].decode('utf-8')"
   ]
  },
  {
   "cell_type": "code",
   "execution_count": null,
   "metadata": {
    "collapsed": true
   },
   "outputs": [],
   "source": [
    "subject_name = sf[0]['subject'].decode('utf-8')"
   ]
  },
  {
   "cell_type": "code",
   "execution_count": null,
   "metadata": {
    "collapsed": false
   },
   "outputs": [],
   "source": [
    "print subject_name"
   ]
  },
  {
   "cell_type": "code",
   "execution_count": null,
   "metadata": {
    "collapsed": false
   },
   "outputs": [],
   "source": [
    "type(sf[0]['imageList'])"
   ]
  },
  {
   "cell_type": "code",
   "execution_count": null,
   "metadata": {
    "collapsed": true
   },
   "outputs": [],
   "source": [
    "image_string = sf[0]['imageList']"
   ]
  },
  {
   "cell_type": "code",
   "execution_count": null,
   "metadata": {
    "collapsed": true
   },
   "outputs": [],
   "source": [
    "image_names = image_string.split(';')"
   ]
  },
  {
   "cell_type": "code",
   "execution_count": null,
   "metadata": {
    "collapsed": false
   },
   "outputs": [],
   "source": [
    "print image_names"
   ]
  },
  {
   "cell_type": "code",
   "execution_count": null,
   "metadata": {
    "collapsed": true
   },
   "outputs": [],
   "source": [
    "img_src = list()\n",
    "for str in image_names:\n",
    "    if str != '':\n",
    "        tmp = str.split(':')\n",
    "        src = tmp[0]\n",
    "        img_src.append(src)"
   ]
  },
  {
   "cell_type": "code",
   "execution_count": null,
   "metadata": {
    "collapsed": false
   },
   "outputs": [],
   "source": [
    "print img_src"
   ]
  },
  {
   "cell_type": "code",
   "execution_count": null,
   "metadata": {
    "collapsed": false
   },
   "outputs": [],
   "source": [
    "for i in range(len(img_src)):\n",
    "    img_src[i] = img_src[i] + '.png'"
   ]
  },
  {
   "cell_type": "code",
   "execution_count": null,
   "metadata": {
    "collapsed": false
   },
   "outputs": [],
   "source": [
    "print img_src"
   ]
  },
  {
   "cell_type": "code",
   "execution_count": null,
   "metadata": {
    "collapsed": false
   },
   "outputs": [],
   "source": [
    "img_sf = gl.image_analysis.load_images('./image_data/')"
   ]
  },
  {
   "cell_type": "code",
   "execution_count": null,
   "metadata": {
    "collapsed": false
   },
   "outputs": [],
   "source": [
    "img_sf"
   ]
  },
  {
   "cell_type": "markdown",
   "metadata": {},
   "source": [
    "Extract name from path"
   ]
  },
  {
   "cell_type": "code",
   "execution_count": null,
   "metadata": {
    "collapsed": false
   },
   "outputs": [],
   "source": [
    "match_name = img_sf[0]['path'].split('/')[-1]"
   ]
  },
  {
   "cell_type": "code",
   "execution_count": null,
   "metadata": {
    "collapsed": false
   },
   "outputs": [],
   "source": [
    "print match_name"
   ]
  },
  {
   "cell_type": "markdown",
   "metadata": {},
   "source": [
    "Count value sets for keys in ProductFeatureList"
   ]
  },
  {
   "cell_type": "code",
   "execution_count": 23,
   "metadata": {
    "collapsed": false
   },
   "outputs": [],
   "source": [
    "import collections\n",
    "key_value_dict = collections.defaultdict(set)"
   ]
  },
  {
   "cell_type": "code",
   "execution_count": 24,
   "metadata": {
    "collapsed": true
   },
   "outputs": [],
   "source": [
    "for i in range(len(sf)):\n",
    "    tmp_dic = sf[i]['productFeatureList']\n",
    "    for k,v in tmp_dic.items():\n",
    "        if v not in key_value_dict[k]:\n",
    "            key_value_dict[k].add(v)"
   ]
  },
  {
   "cell_type": "code",
   "execution_count": 25,
   "metadata": {
    "collapsed": false
   },
   "outputs": [
    {
     "name": "stdout",
     "output_type": "stream",
     "text": [
      "['7119', '8244', '3216', '119140111', '2152', '100186675', '446', '1459', '100048233', '2176', '4341', '126', '1398', '100000192', '101428437', '917', '7101', '8795', '7869', '1654']\n"
     ]
    }
   ],
   "source": [
    "print key_value_dict.keys()"
   ]
  },
  {
   "cell_type": "code",
   "execution_count": 26,
   "metadata": {
    "collapsed": false
   },
   "outputs": [
    {
     "name": "stdout",
     "output_type": "stream",
     "text": [
      "Key: 7119:{\n",
      "2004年\n",
      "2015年\n",
      "2014年\n",
      "3 Values Total\n",
      "}\n",
      "Key: 8244:{\n",
      "品牌\n",
      "1 Values Total\n",
      "}\n",
      "Key: 3216:{\n",
      "淡红色、深黄色、自然色、深红色、淡棕色、淡黄色、深棕色\n",
      "紫\n",
      "黄\n",
      "透明\n",
      "橙\n",
      "橙黄\n",
      "粉红\n",
      "古铜\n",
      "橙红\n",
      "other\n",
      "淡黄\n",
      "绿\n",
      "白色\n",
      "白\n",
      "黑色\n",
      "黑色、啡红、深棕、栗色\n",
      "16 Values Total\n",
      "}\n",
      "Key: 119140111:{\n",
      "否\n",
      "1 Values Total\n",
      "}\n",
      "Key: 2152:{\n",
      "无\n",
      "1 Values Total\n",
      "}\n",
      "Key: 100186675:{\n",
      "正常规格\n",
      "1 Values Total\n",
      "}\n",
      "Key: 446:{\n",
      "other1\n",
      "1 Values Total\n",
      "}\n",
      "Key: 1459:{\n",
      "盒\n",
      "袋\n",
      "2 Values Total\n",
      "}\n",
      "Key: 100048233:{\n",
      "紫罗兰香水膏Kerbside Violet Solid Perfume\n",
      "红花油\n",
      "茶树爽肤蒸面丸 Tea Tree Toner Tabs\n",
      "茶树爽肤水 Tea Tree Water\n",
      "薄荷清爽面膜 Mask Of Magnaminty\n",
      "茶树\n",
      "薄荷\n",
      "柠檬马鞭草\n",
      "芝麻油\n",
      "紫罗兰\n",
      "薄荷清爽面膜 — 自然防腐配方 Mask of Magnaminty self-preserv\n",
      "薄荷舒爽唇部磨砂 Mint Julips\n",
      "12 Values Total\n",
      "}\n",
      "Key: 2176:{\n",
      "LUSH\n",
      "其他\n",
      "2 Values Total\n",
      "}\n",
      "Key: 4341:{\n",
      "6,,215\n",
      "4,,125\n",
      "1,,135\n",
      "87,,145\n",
      "5,,55\n",
      "33,,90\n",
      "3,,90\n",
      "1,,115\n",
      "3,,210\n",
      "468,,80\n",
      "28,,125\n",
      "3,,100\n",
      "4,,60\n",
      "2,,130\n",
      "169,,32\n",
      "5,,40\n",
      "584,,95\n",
      "24,,95\n",
      "6,,185\n",
      "9,,90\n",
      "36,,90\n",
      "3,,620\n",
      "8,,45\n",
      "1,,365\n",
      "3,,85\n",
      "3,,80\n",
      "12,,230\n",
      "12,,90\n",
      "51,,95\n",
      "5,,125\n",
      "3,,75\n",
      "7,,160\n",
      "28,,225\n",
      "3,,110\n",
      "71,,90\n",
      "2,,120\n",
      "6,,90\n",
      "2,,125\n",
      "204,,175\n",
      "4,,75\n",
      "19,,60\n",
      "6,,110\n",
      "10,,95\n",
      "10,,90\n",
      "12,,80\n",
      "97,,95\n",
      "2,,85\n",
      "4,,100\n",
      "9,,80\n",
      "579,,75\n",
      "16,,120\n",
      "4,,80\n",
      "33,,75\n",
      "32,,95\n",
      "4,,275\n",
      "3,,120\n",
      "7,,200\n",
      "10,,60\n",
      "10,,65\n",
      "393,,80\n",
      "14,,65\n",
      "6,,100\n",
      "2,,170\n",
      "9,,155\n",
      "7,,75\n",
      "12,,115\n",
      "2,,95\n",
      "4,,95\n",
      "19,,65\n",
      "1,,380\n",
      "14,,140\n",
      "1,,140\n",
      "1,,305\n",
      "3,,240\n",
      "61,,90\n",
      "1,,2075\n",
      "153,,90\n",
      "12,,180\n",
      "5,,110\n",
      "5,,95\n",
      "3,,105\n",
      "5,,90\n",
      "7,,65\n",
      "86,,95\n",
      "7,,60\n",
      "39,,95\n",
      "3,,270\n",
      "2,,470\n",
      "4,,165\n",
      "18,,90\n",
      "9,,70\n",
      "6,,125\n",
      "4,,400\n",
      "8,,190\n",
      "13,,110\n",
      "8,,115\n",
      "10,,100\n",
      "45,,100\n",
      "30,,115\n",
      "114,,70\n",
      "15,,75\n",
      "2,,110\n",
      "2,,115\n",
      "33,,100\n",
      "4,,105\n",
      "8,,180\n",
      "2,,80\n",
      "7,,120\n",
      "63,,75\n",
      "1,,128\n",
      "2,,75\n",
      "190,,95\n",
      "8,,100\n",
      "68,,90\n",
      "5,,75\n",
      "2,,100\n",
      "321,,76\n",
      "63,,135\n",
      "13,,95\n",
      "1,,80\n",
      "11,,70\n",
      "1,,430\n",
      "57,,65\n",
      "57,,60\n",
      "214,,80\n",
      "1,,130\n",
      "9,,120\n",
      "20,,100\n",
      "37,,70\n",
      "43,,80\n",
      "8,,85\n",
      "8,,80\n",
      "8,,175\n",
      "14,,100\n",
      "212,,95\n",
      "14,,105\n",
      "7,,90\n",
      "51,,35\n",
      "20,,15\n",
      "6,,80\n",
      "49,,105\n",
      "1,,100\n",
      "15,,120\n",
      "38,,95\n",
      "16,,75\n",
      "3,,200\n",
      "7,,85\n",
      "3,,375\n",
      "19,,145\n",
      "1,,340\n",
      "6,,170\n",
      "203,,105\n",
      "17,,85\n",
      "2,,210\n",
      "53,,100\n",
      "76,,80\n",
      "152,,80\n",
      "35,,90\n",
      "9,,100\n",
      "3,,70\n",
      "8,,90\n",
      "29,,225\n",
      "162 Values Total\n",
      "}\n",
      "Key: 126:{\n",
      "无\n",
      "5年\n",
      "2 Values Total\n",
      "}\n",
      "Key: 1398:{\n",
      "Round Tin\n",
      "鱼之乐环保奇迹丝巾\n",
      "小红花环保奇迹丝巾\n",
      "0000\n",
      "22021\n",
      "22020\n",
      "百花齐放环保奇迹丝巾\n",
      "鲜果盛会环保奇迹丝巾\n",
      "郁金香环保奇迹丝巾\n",
      "百合花环保奇迹丝巾\n",
      "绣球花环保奇迹丝巾\n",
      "11 Values Total\n",
      "}\n",
      "Key: 100000192:{\n",
      "混合性\n",
      "中性\n",
      "干性\n",
      "敏感性\n",
      "油性\n",
      "通用\n",
      "6 Values Total\n",
      "}\n",
      "Key: 101428437:{\n",
      "茶树爽肤蒸面丸 Tea Tree Toner Tabs\n",
      "咖啡面膜\n",
      "亮眼睫毛液(黑色)\n",
      "快乐柚子护发素 Happy Happy Joy Joy\n",
      "香水膏礼盒1号\n",
      "蓝海洋洗发皂 Seanik\n",
      "闪烁的心按摩芭\n",
      "紫罗亮泽护发皂\n",
      "好帮手润手霜 helping hands\n",
      "草本洗面膏 Herbalism\n",
      "免冲洗爽发粉 No Drought\n",
      "奇妙恩典精华芭 Full Of Grace\n",
      "一千零一夜面霜 Imperialis\n",
      "新的章节香水膏All Good Things Solid Perfume\n",
      "NOIR\n",
      "珍珠按摩芭\n",
      "丰盈洗发露 Big\n",
      "传说中的面霜 Skin's Shangri La\n",
      "玫瑰之最香水膏Imogen Rose\n",
      "绿色发宝护发皂\n",
      "阳光之吻润唇膏\n",
      "吹波糖润唇磨砂 Bubblegum\n",
      "檀香之旅香水膏Smugglers Soul Solid Perfume\n",
      "再新洗发皂 New\n",
      "头皮拜拜洗发皂 soak and float\n",
      "摇篮曲洗发皂 Lullaby\n",
      "和谐洗发皂 Karma Komba\n",
      "卷曲洗发露 Curly Wurly\n",
      "锡金女郎香水膏Sikkim Girls Solid\n",
      "香水膏礼盒3号\n",
      "朝九晚五卸妆洁面乳 9 to 5\n",
      "海洋造型修护喷雾 Sea Spray\n",
      "巴西果脂润唇膏\n",
      "头皮万用膏 Superbalm Scalp Treatment\n",
      "亮肌面部修饰霜\n",
      "香草甜心香水膏Vanillary Solid\n",
      "油光不再面霜 Vanishing Cream\n",
      "紫罗兰香水膏Kerbside Violet Solid Perfume\n",
      "茶树止汗砖 Teo Deodorant Block\n",
      "糖衣陷阱润唇膏 Honey Trap\n",
      "薄荷清爽面膜 — 自然防腐配方 Mask of Magnaminty self-preserv\n",
      "海洋水晶磨砂膏-- 自然防腐配方系列 Ocean Salt--Self Preservin\n",
      "丰盈护发皂 Big\n",
      "柠檬清爽洗发皂 Montalbano\n",
      "和谐心灵香水膏Karma Solid\n",
      "调色粉底霜（自然色）Jackie Oates\n",
      "薰衣迷洗发皂 Jumping Juniper\n",
      "鲜果爽洗发露 I Love Juicy\n",
      "滑不溜手润手霜 Handy Gurugu\n",
      "海藻寿司洗面膏 Aqua Marina\n",
      "奇妙历程按摩芭\n",
      "生死之源香水膏Death & Decay Solid Perfume\n",
      "摩洛哥坚果洗发皂 Jason And The Argan Oil\n",
      "黑夜天使洗面膏 Dark Angels\n",
      "草本护发素 Veganese\n",
      "清新洁面皂 Fresh Farmacy\n",
      "爆米花唇部磨砂 Popcorn\n",
      "阳光路上香水膏Sun Solid\n",
      "修复护发砖\n",
      "肌肤特饮 Skin Drink\n",
      "梦想成真润肤霜-自然防腐配方 Dream Cream-Self Preservi\n",
      "热情润唇膏\n",
      "薄荷清爽面膜 Mask Of Magnaminty\n",
      "梦幻仙境蒸面丸 Dream Steam Steamer Tab\n",
      "青柠润唇膏\n",
      "香水膏礼盒2号\n",
      "蓬松拜拜深层护发素\n",
      "锁色亮泽洗发皂 Copperhead\n",
      "经典卸妆洁面霜 Ultrabland\n",
      "美丽在望面霜 Gorgeous\n",
      "我爱蜜糖儿洗发皂 Honey I Washed My Hair\n",
      "电眼补湿乳 Enchanted Eye Cream\n",
      "罗马许愿池爽肤水 Eau Roma Water\n",
      "奶黄深层护发 H'suan Wen Hua\n",
      "柔顺护发砖\n",
      "动感免冲洗护发霜 R & B Hair Moisturiser\n",
      "发根深层护发 Roots\n",
      "古铜面部修饰霜\n",
      "乐天爆谷洗面膏 Let The Good Times Roll\n",
      "卷曲护发砖\n",
      "木炭洁净止汗粉 The Guvner\n",
      "海洋水晶磨砂膏 Ocean Salt\n",
      "酵素提亮面霜 Enzymion\n",
      "椰香飘飘洗发皂 Trichomania\n",
      "奶油冻造型修护乳霜\n",
      "紫罗亮泽洗发露 Daddy-O\n",
      "美式忌廉护发素 American Cream\n",
      "草本清爽止汗粉 The Greeench\n",
      "薄荷舒爽唇部磨砂 Mint Julips\n",
      "梦想成真润肤霜 Dream Cream\n",
      "天上人间面霜 Celestial\n",
      "清风爽肤水 Breath of Fresh Air\n",
      "闪电去痘控油啫喱 Grease Lightning\n",
      "杂果宾治洗发露 Rehab\n",
      "一吻倾心润唇膏 It Started With A Kiss\n",
      "热情桑巴洗发皂 Brazilliant\n",
      "热情岛按摩芭\n",
      "诱惑男女香水膏Lust Solid\n",
      "我爱蜜糖儿洗发露 Fair trade Honey\n",
      "伯爵夫人洗发皂 Godiva\n",
      "茶树爽肤水 Tea Tree Water\n",
      "冰菊止汗砖 Aromaco\n",
      "百万风采防晒面霜 Million Dollar\n",
      "活力阳光防晒粉 Powered Sunshine\n",
      "拯救队润唇膏 Lip Service\n",
      "流星天使洗面膏 Angels on Bare Skin\n",
      "新配方慈善爱心润肤乳 New Charity Pot\n",
      "柠檬忌廉护甲霜 Lemony Flutter Cuticle Butter\n",
      "玫瑰润唇膏\n",
      "油中送炭洁面皂 Coalface\n",
      "110 Values Total\n",
      "}\n",
      "Key: 917:{\n",
      "SPF30+\n",
      "SPF1-10\n",
      "2 Values Total\n",
      "}\n",
      "Key: 7101:{\n",
      "男士\n",
      "1 Values Total\n",
      "}\n",
      "Key: 8795:{\n",
      "营养滋润\n",
      "丰盈蓬松\n",
      "舒缓肌肤\n",
      "去死皮\n",
      "染烫受损护理\n",
      "口气清新\n",
      "染发\n",
      "草本清爽止汗粉 The Greeench\n",
      "头皮控油\n",
      "其他/other\n",
      "光泽度\n",
      "滋养肌肤\n",
      "使用效果\n",
      "强韧防断发\n",
      "提亮肤色\n",
      "冰菊止汗砖 Aromaco\n",
      "清洁\n",
      "头皮舒缓\n",
      "茶树止汗砖 Teo Deodorant Block\n",
      "定妆\n",
      "去眼袋\n",
      "修复\n",
      "减淡唇纹\n",
      "保湿\n",
      "美白\n",
      "浓密\n",
      "防晒\n",
      "深层清洁\n",
      "改善头痒\n",
      "去角质\n",
      "去头屑\n",
      "补水\n",
      "止汗\n",
      "控油\n",
      "修饰肤色\n",
      "改善毛躁\n",
      "滋润\n",
      "木炭洁净止汗粉 The Guvner\n",
      "38 Values Total\n",
      "}\n",
      "Key: 7869:{\n",
      "否\n",
      "1 Values Total\n",
      "}\n",
      "Key: 1654:{\n",
      "250mL|500mL\n",
      "300mL\n",
      "500mL|250mL\n",
      "others\n",
      "4 Values Total\n",
      "}\n"
     ]
    }
   ],
   "source": [
    "for key in key_value_dict.keys():\n",
    "    print \"Key: \" + key + \":{\"\n",
    "    count = 0\n",
    "    value_set = key_value_dict[key]\n",
    "    for value in value_set:\n",
    "        print value.decode('utf-8')\n",
    "        count += 1\n",
    "    print \"%d Values Total\" % count\n",
    "    print \"}\""
   ]
  },
  {
   "cell_type": "code",
   "execution_count": null,
   "metadata": {
    "collapsed": false
   },
   "outputs": [],
   "source": [
    "type(sf[0]['offerId'])"
   ]
  },
  {
   "cell_type": "markdown",
   "metadata": {},
   "source": [
    "Save product info in to database"
   ]
  },
  {
   "cell_type": "code",
   "execution_count": 6,
   "metadata": {
    "collapsed": true
   },
   "outputs": [],
   "source": [
    "config = {\n",
    "    'host': 'localhost',\n",
    "    'user': 'root',\n",
    "    'password': '123456',\n",
    "    'db': 'prod_schema',\n",
    "    'charset': 'utf8mb4',\n",
    "    'cursorclass': pymysql.cursors.DictCursor\n",
    "}\n",
    "connection = pymysql.connect(**config)"
   ]
  },
  {
   "cell_type": "code",
   "execution_count": 9,
   "metadata": {
    "collapsed": true
   },
   "outputs": [],
   "source": [
    "def db_execute(config, sql):\n",
    "    connection = pymysql.connect(**config)\n",
    "    try:\n",
    "        with connection.cursor() as cursor:\n",
    "            cursor.execute(sql)\n",
    "        connection.commit()\n",
    "        return True\n",
    "    finally:\n",
    "        connection.close()"
   ]
  },
  {
   "cell_type": "code",
   "execution_count": 10,
   "metadata": {
    "collapsed": true
   },
   "outputs": [],
   "source": [
    "def insert_prod(dic, config):\n",
    "    prod_id = dic['offerId']\n",
    "    prod_name = dic['subject'].decode('utf-8')\n",
    "    pprice = dic['unitPrice']\n",
    "    sql = \"insert into prod_schema.prod_info (pid, pname, pprice) values (%d, '%s', %d)\" % (prod_id, prod_name, pprice)\n",
    "    #print sql\n",
    "    return db_execute(config, sql)\n",
    "\n",
    "def insert_img_srcs(img_str, pid, config):\n",
    "    img_names = img_str.split(';')\n",
    "    img_srcs = list()\n",
    "    for name in img_names:\n",
    "        if name != '':\n",
    "            tmp = name.split(':')\n",
    "            src = tmp[0] + '.jpg'\n",
    "            img_srcs.append(src)\n",
    "    for src in img_srcs:\n",
    "        sql = \"insert into prod_schema.prod_img (prod_id, img_path) values (%d, '%s')\" % (pid, src)\n",
    "        db_execute(config, sql)"
   ]
  },
  {
   "cell_type": "code",
   "execution_count": 18,
   "metadata": {
    "collapsed": false
   },
   "outputs": [
    {
     "name": "stdout",
     "output_type": "stream",
     "text": [
      "1 LUSH岚舒 日本正品 BIG丰盈洗发露 蓬松控油秀发亮泽洗发水 175\n",
      "insert into prod_schema.prod_info (pid, pname, pprice) values (1, 'LUSH岚舒 日本正品 BIG丰盈洗发露 蓬松控油秀发亮泽洗发水', 175)\n",
      "2 LUSH岚舒 日本正品紫罗亮泽洗发露 提升光泽洗发水 75\n",
      "insert into prod_schema.prod_info (pid, pname, pprice) values (2, 'LUSH岚舒 日本正品紫罗亮泽洗发露 提升光泽洗发水', 75)\n",
      "3 LUSH岚舒 英国正品 椰香飘飘洗发皂柔顺修复干燥滋润手工皂 85\n",
      "insert into prod_schema.prod_info (pid, pname, pprice) values (3, 'LUSH岚舒 英国正品 椰香飘飘洗发皂柔顺修复干燥滋润手工皂', 85)\n",
      "4 日本LUSH岚舒 头皮拜拜去屑控油正品进口洗发皂 头皮护理 95\n",
      "insert into prod_schema.prod_info (pid, pname, pprice) values (4, '日本LUSH岚舒 头皮拜拜去屑控油正品进口洗发皂 头皮护理', 95)\n",
      "5 LUSH岚舒 正品英国快乐柚子护发素 柔顺滋润秀发 125\n",
      "insert into prod_schema.prod_info (pid, pname, pprice) values (5, 'LUSH岚舒 正品英国快乐柚子护发素 柔顺滋润秀发', 125)\n",
      "6 LUSH岚舒 流星天使洗面膏 清爽舒爽 不紧绷洁面手工 保湿滋润 90\n",
      "insert into prod_schema.prod_info (pid, pname, pprice) values (6, 'LUSH岚舒 流星天使洗面膏 清爽舒爽 不紧绷洁面手工 保湿滋润', 90)\n",
      "7 LUSH岚舒 乐天爆谷洗面膏 滋润去角质洁面皂 90\n",
      "insert into prod_schema.prod_info (pid, pname, pprice) values (7, 'LUSH岚舒 乐天爆谷洗面膏 滋润去角质洁面皂', 90)\n",
      "8 LUSH岚舒 日本正品海洋水晶磨砂膏 自然防腐配方 滋润补水保湿 120\n",
      "insert into prod_schema.prod_info (pid, pname, pprice) values (8, 'LUSH岚舒 日本正品海洋水晶磨砂膏 自然防腐配方 滋润补水保湿', 120)\n",
      "9 性感无罪香氛皂 英国LUSH岚舒正品提亮肤色手工滋润香氛皂精油皂 48\n",
      "insert into prod_schema.prod_info (pid, pname, pprice) values (9, '性感无罪香氛皂 英国LUSH岚舒正品提亮肤色手工滋润香氛皂精油皂', 48)\n",
      "10 LUSH岚舒 日本正品鲜果爽洗发露 控油去屑洗发水 深层清洁 75\n",
      "insert into prod_schema.prod_info (pid, pname, pprice) values (10, 'LUSH岚舒 日本正品鲜果爽洗发露 控油去屑洗发水 深层清洁', 75)\n",
      "11 日本LUSH岚舒 薰衣迷手工洗发皂 正品控油抗菌洗头皂 亮泽秀发 95\n",
      "insert into prod_schema.prod_info (pid, pname, pprice) values (11, '日本LUSH岚舒 薰衣迷手工洗发皂 正品控油抗菌洗头皂 亮泽秀发', 95)\n",
      "12 LUSH岚舒 日本正品 伯爵夫人 滋润手工修复滋养洗头皂洗发皂 105\n",
      "insert into prod_schema.prod_info (pid, pname, pprice) values (12, 'LUSH岚舒 日本正品 伯爵夫人 滋润手工修复滋养洗头皂洗发皂', 105)\n",
      "13 LUSH岚舒 日本正品 草本天然植物滋润护发素 柔顺秀发 修护头皮 60\n",
      "insert into prod_schema.prod_info (pid, pname, pprice) values (13, 'LUSH岚舒 日本正品 草本天然植物滋润护发素 柔顺秀发 修护头皮', 60)\n",
      "14 LUSHLUSH岚舒 日本正品经典卸妆洁面霜 清洁不紧绷 修复霜 95\n",
      "insert into prod_schema.prod_info (pid, pname, pprice) values (14, 'LUSHLUSH岚舒 日本正品经典卸妆洁面霜 清洁不紧绷 修复霜', 95)\n",
      "15 LUSH岚舒 日本正品 海洋水晶磨砂膏 去角质洁面 手工保湿滋润肌肤 120\n",
      "insert into prod_schema.prod_info (pid, pname, pprice) values (15, 'LUSH岚舒 日本正品 海洋水晶磨砂膏 去角质洁面 手工保湿滋润肌肤', 120)\n",
      "16 LUSH岚舒 英国正品飞沙走石香氛皂 去角质滋润手工精油皂 51\n",
      "insert into prod_schema.prod_info (pid, pname, pprice) values (16, 'LUSH岚舒 英国正品飞沙走石香氛皂 去角质滋润手工精油皂', 51)\n",
      "17 杂果宾治洗发露 日本LUSH岚舒控油舒缓正品滋润镇静头皮洗发水 80\n",
      "insert into prod_schema.prod_info (pid, pname, pprice) values (17, '杂果宾治洗发露 日本LUSH岚舒控油舒缓正品滋润镇静头皮洗发水', 80)\n",
      "18 LUSH岚舒 日本正品卷曲洗发露 损伤修复洗发水男/女 无硅油 滋润 160\n",
      "insert into prod_schema.prod_info (pid, pname, pprice) values (18, 'LUSH岚舒 日本正品卷曲洗发露 损伤修复洗发水男/女 无硅油 滋润', 160)\n",
      "19 日本LUSH岚舒 和谐手工洗发皂 正品进口控油去屑清新提神洗头皂 95\n",
      "insert into prod_schema.prod_info (pid, pname, pprice) values (19, '日本LUSH岚舒 和谐手工洗发皂 正品进口控油去屑清新提神洗头皂', 95)\n",
      "20 LUSH岚舒 日本正品 蓝海洋纯天然手工洗发皂 丰盈自然蓬松洗头皂 95\n",
      "insert into prod_schema.prod_info (pid, pname, pprice) values (20, 'LUSH岚舒 日本正品 蓝海洋纯天然手工洗发皂 丰盈自然蓬松洗头皂', 95)\n",
      "21 LUSH岚舒 英国正品清新洁面皂 温和清洁 舒缓手工 保湿滋润肌肤 80\n",
      "insert into prod_schema.prod_info (pid, pname, pprice) values (21, 'LUSH岚舒 英国正品清新洁面皂 温和清洁 舒缓手工 保湿滋润肌肤', 80)\n",
      "22 LUSH岚舒 日本正品 海藻寿司洗面膏 手工 保湿滋润肌肤 洁面 225\n",
      "insert into prod_schema.prod_info (pid, pname, pprice) values (22, 'LUSH岚舒 日本正品 海藻寿司洗面膏 手工 保湿滋润肌肤 洁面', 225)\n",
      "23 LUSH岚舒 日本正品 黑夜天使洗面膏 控油深层清洁洗脸乳 225\n",
      "insert into prod_schema.prod_info (pid, pname, pprice) values (23, 'LUSH岚舒 日本正品 黑夜天使洗面膏 控油深层清洁洗脸乳', 225)\n",
      "24 LUSH岚舒 日本正品干果子香氛皂 保湿滋润手工精油皂 48\n",
      "insert into prod_schema.prod_info (pid, pname, pprice) values (24, 'LUSH岚舒 日本正品干果子香氛皂 保湿滋润手工精油皂', 48)\n",
      "25 LUSH岚舒 英国正品波希米亚香氛皂 提亮肤色手工精油皂 滋润 41\n",
      "insert into prod_schema.prod_info (pid, pname, pprice) values (25, 'LUSH岚舒 英国正品波希米亚香氛皂 提亮肤色手工精油皂 滋润', 41)\n",
      "26 LUSH岚舒 日本正品我爱蜜糖儿香氛皂 滋润舒缓手工精油皂 48\n",
      "insert into prod_schema.prod_info (pid, pname, pprice) values (26, 'LUSH岚舒 日本正品我爱蜜糖儿香氛皂 滋润舒缓手工精油皂', 48)\n",
      "27 LUSH岚舒 日本正品 海洋之星手工香氛皂 柔软肌肤手工香氛精油皂 46\n",
      "insert into prod_schema.prod_info (pid, pname, pprice) values (27, 'LUSH岚舒 日本正品 海洋之星手工香氛皂 柔软肌肤手工香氛精油皂', 46)\n",
      "28 LUSH岚舒 日本正品我爱蜜糖儿洗发露 水润亮泽 洗发水 100\n",
      "insert into prod_schema.prod_info (pid, pname, pprice) values (28, 'LUSH岚舒 日本正品我爱蜜糖儿洗发露 水润亮泽 洗发水', 100)\n",
      "29 LUSH岚舒 日本正品 再新小红帽改善脱发手工洗头皂进口洗发皂 95\n",
      "insert into prod_schema.prod_info (pid, pname, pprice) values (29, 'LUSH岚舒 日本正品 再新小红帽改善脱发手工洗头皂进口洗发皂', 95)\n",
      "30 LUSH岚舒 日本正品免冲洗爽发粉 控油清爽清洁头皮孕妇可用 70\n",
      "insert into prod_schema.prod_info (pid, pname, pprice) values (30, 'LUSH岚舒 日本正品免冲洗爽发粉 控油清爽清洁头皮孕妇可用', 70)\n",
      "31 美式忌廉护发素 日本正品LUSH岚舒修复分叉护发素 柔顺头发 轻盈 70\n",
      "insert into prod_schema.prod_info (pid, pname, pprice) values (31, '美式忌廉护发素 日本正品LUSH岚舒修复分叉护发素 柔顺头发 轻盈', 70)\n",
      "32 LUSH岚舒 日本正品丰盈护发皂 蓬松补水飘逸光泽秀发进口护发皂 90\n",
      "insert into prod_schema.prod_info (pid, pname, pprice) values (32, 'LUSH岚舒 日本正品丰盈护发皂 蓬松补水飘逸光泽秀发进口护发皂', 90)\n",
      "33 LUSH岚舒 植物天然染发砖 日本进口 4色可选 黑色栗色啡红深棕 135\n",
      "insert into prod_schema.prod_info (pid, pname, pprice) values (33, 'LUSH岚舒 植物天然染发砖 日本进口 4色可选 黑色栗色啡红深棕', 135)\n",
      "34 LUSH岚舒 日本正品 草本洗面膏 控油清爽洁面手工 保湿滋润肌肤 90\n",
      "insert into prod_schema.prod_info (pid, pname, pprice) values (34, 'LUSH岚舒 日本正品 草本洗面膏 控油清爽洁面手工 保湿滋润肌肤', 90)\n",
      "35 LUSH岚舒 油中送炭洁面皂 日本正品 控油祛痘清洁去角质保湿 80\n",
      "insert into prod_schema.prod_info (pid, pname, pprice) values (35, 'LUSH岚舒 油中送炭洁面皂 日本正品 控油祛痘清洁去角质保湿', 80)\n",
      "36 LUSH岚舒 日本正品朝9晚5保湿洁面乳 清爽不紧绷清洁 手工 保湿 70\n",
      "insert into prod_schema.prod_info (pid, pname, pprice) values (36, 'LUSH岚舒 日本正品朝9晚5保湿洁面乳 清爽不紧绷清洁 手工 保湿', 70)\n",
      "37 薄荷清爽面膜原有配方 英国LUSH岚舒 清洁水洗面膜泥补水保湿修护 80\n",
      "insert into prod_schema.prod_info (pid, pname, pprice) values (37, '薄荷清爽面膜原有配方 英国LUSH岚舒 清洁水洗面膜泥补水保湿修护', 80)\n",
      "38 LUSH岚舒 日本正品茶树爽肤水 控油清爽祛痘 锁水保湿滋润喷雾 65\n",
      "insert into prod_schema.prod_info (pid, pname, pprice) values (38, 'LUSH岚舒 日本正品茶树爽肤水 控油清爽祛痘 锁水保湿滋润喷雾', 65)\n",
      "39 LUSH岚舒 日本正品一千零一夜面霜 滋养补水 舒缓平衡修复霜 200\n",
      "insert into prod_schema.prod_info (pid, pname, pprice) values (39, 'LUSH岚舒 日本正品一千零一夜面霜 滋养补水 舒缓平衡修复霜', 200)\n",
      "40 LUSH岚舒 日本正品传说中的面霜 保湿修复霜 手工 375\n",
      "insert into prod_schema.prod_info (pid, pname, pprice) values (40, 'LUSH岚舒 日本正品传说中的面霜 保湿修复霜 手工', 375)\n",
      "41 LUSH岚舒 日本正品酵素提亮面霜 控油补水 提亮肤色 手工 保湿 215\n",
      "insert into prod_schema.prod_info (pid, pname, pprice) values (41, 'LUSH岚舒 日本正品酵素提亮面霜 控油补水 提亮肤色 手工 保湿', 215)\n",
      "42 LUSH岚舒 英国正品 和谐心灵香氛皂 安神舒缓滋润 手工精油皂 57\n",
      "insert into prod_schema.prod_info (pid, pname, pprice) values (42, 'LUSH岚舒 英国正品 和谐心灵香氛皂 安神舒缓滋润 手工精油皂', 57)\n",
      "43 LUSH岚舒 英国正品肌肤特饮面霜 滋润保湿肌肤去角质修复霜手工 170\n",
      "insert into prod_schema.prod_info (pid, pname, pprice) values (43, 'LUSH岚舒 英国正品肌肤特饮面霜 滋润保湿肌肤去角质修复霜手工', 170)\n",
      "44 英国LUSH岚舒正品滋润保湿隔离紫外线修护面霜 百万风采防晒面霜 470\n",
      "insert into prod_schema.prod_info (pid, pname, pprice) values (44, '英国LUSH岚舒正品滋润保湿隔离紫外线修护面霜 百万风采防晒面霜', 470)\n",
      "45 LUSH岚舒 日本正品 自然防腐配方 薄荷清爽面膜 清洁手工 80\n",
      "insert into prod_schema.prod_info (pid, pname, pprice) values (45, 'LUSH岚舒 日本正品 自然防腐配方 薄荷清爽面膜 清洁手工', 80)\n",
      "46 LUSH岚舒 日本正品清风爽肤水 锁水保湿滋润 控油喷雾 65\n",
      "insert into prod_schema.prod_info (pid, pname, pprice) values (46, 'LUSH岚舒 日本正品清风爽肤水 锁水保湿滋润 控油喷雾', 65)\n",
      "47 LUSH岚舒 英国正品梦幻仙境蒸面丸 抗敏感 锁水保湿 晒后修复 40\n",
      "insert into prod_schema.prod_info (pid, pname, pprice) values (47, 'LUSH岚舒 英国正品梦幻仙境蒸面丸 抗敏感 锁水保湿 晒后修复', 40)\n",
      "48 LUSH岚舒 日本正品罗马许愿池爽肤水 晒后修复锁水保湿滋润控油 65\n",
      "insert into prod_schema.prod_info (pid, pname, pprice) values (48, 'LUSH岚舒 日本正品罗马许愿池爽肤水 晒后修复锁水保湿滋润控油', 65)\n",
      "49 LUSH岚舒 英国正品 油光不再面霜 控油 保湿修复霜 275\n",
      "insert into prod_schema.prod_info (pid, pname, pprice) values (49, 'LUSH岚舒 英国正品 油光不再面霜 控油 保湿修复霜', 275)\n",
      "50 LUSH岚舒日本正品茶树爽肤蒸面丸控油抗痘补水滋润保湿 15\n",
      "insert into prod_schema.prod_info (pid, pname, pprice) values (50, 'LUSH岚舒日本正品茶树爽肤蒸面丸控油抗痘补水滋润保湿', 15)\n",
      "51 LUSH岚舒 日本正品 天上人间面霜 滋润舒缓 手工 保湿滋润肌肤 160\n",
      "insert into prod_schema.prod_info (pid, pname, pprice) values (51, 'LUSH岚舒 日本正品 天上人间面霜 滋润舒缓 手工 保湿滋润肌肤', 160)\n",
      "52 LUSHLUSH岚舒 日本正品美丽在望面霜  改善肤色 保湿修复霜 620\n",
      "insert into prod_schema.prod_info (pid, pname, pprice) values (52, 'LUSHLUSH岚舒 日本正品美丽在望面霜  改善肤色 保湿修复霜', 620)\n",
      "53 LUSH岚舒 日本正品 我爱蜜糖儿沐浴露 留香 男/女保湿滋润进口 70\n",
      "insert into prod_schema.prod_info (pid, pname, pprice) values (53, 'LUSH岚舒 日本正品 我爱蜜糖儿沐浴露 留香 男/女保湿滋润进口', 70)\n",
      "54 英国LUSH岚舒 正品绚烂阳光泡泡浴芭 泡澡浴芭 水果滋润香薰沐浴 75\n",
      "insert into prod_schema.prod_info (pid, pname, pprice) values (54, '英国LUSH岚舒 正品绚烂阳光泡泡浴芭 泡澡浴芭 水果滋润香薰沐浴', 75)\n",
      "55 英国LUSH岚舒 正品奶油糖泡泡浴芭 泡澡浴芭 水果滋润香薰沐浴 45\n",
      "insert into prod_schema.prod_info (pid, pname, pprice) values (55, '英国LUSH岚舒 正品奶油糖泡泡浴芭 泡澡浴芭 水果滋润香薰沐浴', 45)\n",
      "56 LUSH岚舒 日本正品 电眼补湿乳 去眼袋细纹紧致补水眼霜 190\n",
      "insert into prod_schema.prod_info (pid, pname, pprice) values (56, 'LUSH岚舒 日本正品 电眼补湿乳 去眼袋细纹紧致补水眼霜', 190)\n",
      "57 英国LUSH岚舒 正品法国香吻泡泡浴芭 泡澡浴芭 水果滋润香薰沐浴 65\n",
      "insert into prod_schema.prod_info (pid, pname, pprice) values (57, '英国LUSH岚舒 正品法国香吻泡泡浴芭 泡澡浴芭 水果滋润香薰沐浴', 65)\n",
      "58 LUSH岚舒 日本正品爆炸花泡泡浴芭 泡澡浴芭 水果滋润香薰沐浴 50\n",
      "insert into prod_schema.prod_info (pid, pname, pprice) values (58, 'LUSH岚舒 日本正品爆炸花泡泡浴芭 泡澡浴芭 水果滋润香薰沐浴', 50)\n",
      "59 英国LUSH岚舒 正品蓝天白云泡泡浴芭 泡澡浴芭 水果滋润香薰沐浴 75\n",
      "insert into prod_schema.prod_info (pid, pname, pprice) values (59, '英国LUSH岚舒 正品蓝天白云泡泡浴芭 泡澡浴芭 水果滋润香薰沐浴', 75)\n",
      "60 LUSH岚舒 日本正品 蓝海洋汽泡弹 沐浴泡泡弹 泡澡 香薰精华油 45\n",
      "insert into prod_schema.prod_info (pid, pname, pprice) values (60, 'LUSH岚舒 日本正品 蓝海洋汽泡弹 沐浴泡泡弹 泡澡 香薰精华油', 45)\n",
      "61 英国LUSH岚舒 正品 巨龙蛋汽泡弹 滋润香薰滋润沐浴泡澡浴弹 55\n",
      "insert into prod_schema.prod_info (pid, pname, pprice) values (61, '英国LUSH岚舒 正品 巨龙蛋汽泡弹 滋润香薰滋润沐浴泡澡浴弹', 55)\n",
      "62 加州西柚沐浴露 日本LUSH岚舒正品男女留香控油保湿沐浴露 70\n",
      "insert into prod_schema.prod_info (pid, pname, pprice) values (62, '加州西柚沐浴露 日本LUSH岚舒正品男女留香控油保湿沐浴露', 70)\n",
      "63 LUSH岚舒 日本正品 意大利橄榄沐浴露  保湿全身 滋润精油 70\n",
      "insert into prod_schema.prod_info (pid, pname, pprice) values (63, 'LUSH岚舒 日本正品 意大利橄榄沐浴露  保湿全身 滋润精油', 70)\n",
      "64 Dirty沐浴露 日本正品LUSH岚舒   清凉舒爽保湿男女沐浴露 70\n",
      "insert into prod_schema.prod_info (pid, pname, pprice) values (64, 'Dirty沐浴露 日本正品LUSH岚舒   清凉舒爽保湿男女沐浴露', 70)\n",
      "65 英国LUSH岚舒 正品 粉红梦乡汽泡弹 滋润香薰滋润沐浴泡澡浴弹 35\n",
      "insert into prod_schema.prod_info (pid, pname, pprice) values (65, '英国LUSH岚舒 正品 粉红梦乡汽泡弹 滋润香薰滋润沐浴泡澡浴弹', 35)\n",
      "66 英国LUSH岚舒 正品 醉人薰衣草汽泡弹 滋润香薰滋润沐浴泡澡浴弹 50\n",
      "insert into prod_schema.prod_info (pid, pname, pprice) values (66, '英国LUSH岚舒 正品 醉人薰衣草汽泡弹 滋润香薰滋润沐浴泡澡浴弹', 50)\n",
      "67 英国LUSH岚舒 正品天鹅绒泡泡浴芭  泡澡浴芭 水果滋润香薰沐浴 70\n",
      "insert into prod_schema.prod_info (pid, pname, pprice) values (67, '英国LUSH岚舒 正品天鹅绒泡泡浴芭  泡澡浴芭 水果滋润香薰沐浴', 70)\n",
      "68 英国LUSH岚舒 正品 黑莓汽泡弹 滋润香薰滋润沐浴泡澡浴弹 40\n",
      "insert into prod_schema.prod_info (pid, pname, pprice) values (68, '英国LUSH岚舒 正品 黑莓汽泡弹 滋润香薰滋润沐浴泡澡浴弹', 40)\n",
      "69 LUSH岚舒 英国正品 奶油泡芙汽泡弹 滋润香薰滋润沐浴泡澡浴弹 35\n",
      "insert into prod_schema.prod_info (pid, pname, pprice) values (69, 'LUSH岚舒 英国正品 奶油泡芙汽泡弹 滋润香薰滋润沐浴泡澡浴弹', 35)\n",
      "70 英国LUSH岚舒 正品和谐心灵泡泡浴芭 泡澡浴芭 水果滋润香薰沐浴 65\n",
      "insert into prod_schema.prod_info (pid, pname, pprice) values (70, '英国LUSH岚舒 正品和谐心灵泡泡浴芭 泡澡浴芭 水果滋润香薰沐浴', 65)\n",
      "71 英国LUSH岚舒 正品柚子可可泡泡浴芭 泡澡浴芭 水果滋润香薰沐浴 60\n",
      "insert into prod_schema.prod_info (pid, pname, pprice) values (71, '英国LUSH岚舒 正品柚子可可泡泡浴芭 泡澡浴芭 水果滋润香薰沐浴', 60)\n",
      "72 LUSH岚舒 日本正品 樱之花汽泡弹 滋润香薰滋润沐浴泡澡浴弹 50\n",
      "insert into prod_schema.prod_info (pid, pname, pprice) values (72, 'LUSH岚舒 日本正品 樱之花汽泡弹 滋润香薰滋润沐浴泡澡浴弹', 50)\n",
      "73 英国LUSH岚舒 正品 爆炸糖汽泡弹 滋润香薰滋润沐浴泡澡浴弹 55\n",
      "insert into prod_schema.prod_info (pid, pname, pprice) values (73, '英国LUSH岚舒 正品 爆炸糖汽泡弹 滋润香薰滋润沐浴泡澡浴弹', 55)\n",
      "74 英国LUSH岚舒 正品 机械宝贝汽泡弹 滋润香薰滋润沐浴泡澡浴弹 30\n",
      "insert into prod_schema.prod_info (pid, pname, pprice) values (74, '英国LUSH岚舒 正品 机械宝贝汽泡弹 滋润香薰滋润沐浴泡澡浴弹', 30)\n",
      "75 LUSH岚舒 日本正品 玫瑰恋人汽泡弹 滋润香薰滋润沐浴泡澡浴弹 50\n",
      "insert into prod_schema.prod_info (pid, pname, pprice) values (75, 'LUSH岚舒 日本正品 玫瑰恋人汽泡弹 滋润香薰滋润沐浴泡澡浴弹', 50)\n",
      "76 LUSH岚舒 日本正品 性感汽泡弹 滋润香薰滋润沐浴泡澡浴弹 50\n",
      "insert into prod_schema.prod_info (pid, pname, pprice) values (76, 'LUSH岚舒 日本正品 性感汽泡弹 滋润香薰滋润沐浴泡澡浴弹', 50)\n",
      "77 英国LUSH岚舒 正品 清新果子汽泡弹 滋润香薰滋润沐浴泡澡浴弹 45\n",
      "insert into prod_schema.prod_info (pid, pname, pprice) values (77, '英国LUSH岚舒 正品 清新果子汽泡弹 滋润香薰滋润沐浴泡澡浴弹', 45)\n",
      "78 LUSH岚舒 日本正品 爆米花唇部磨砂 去角质淡化唇纹 滋润去死皮 80\n",
      "insert into prod_schema.prod_info (pid, pname, pprice) values (78, 'LUSH岚舒 日本正品 爆米花唇部磨砂 去角质淡化唇纹 滋润去死皮', 80)\n",
      "79 LUSH岚舒 英国正品 泡泡糖唇部磨砂 去角质淡化唇纹 滋润去死皮 80\n",
      "insert into prod_schema.prod_info (pid, pname, pprice) values (79, 'LUSH岚舒 英国正品 泡泡糖唇部磨砂 去角质淡化唇纹 滋润去死皮', 80)\n",
      "80 英国LUSH岚舒 一吻倾心闪亮润唇膏 正品进口柔软保湿滋润护唇 95\n",
      "insert into prod_schema.prod_info (pid, pname, pprice) values (80, '英国LUSH岚舒 一吻倾心闪亮润唇膏 正品进口柔软保湿滋润护唇', 95)\n",
      "81 LUSH岚舒 日本正品 薄荷舒爽唇部磨砂 唇部去角质 淡化唇纹 80\n",
      "insert into prod_schema.prod_info (pid, pname, pprice) values (81, 'LUSH岚舒 日本正品 薄荷舒爽唇部磨砂 唇部去角质 淡化唇纹', 80)\n",
      "82 LUSHLUSH岚舒 日本正品 拯救队润唇膏 去角质淡化唇纹滋润去死皮 100\n",
      "insert into prod_schema.prod_info (pid, pname, pprice) values (82, 'LUSHLUSH岚舒 日本正品 拯救队润唇膏 去角质淡化唇纹滋润去死皮', 100)\n",
      "83 LUSH岚舒 英国正品 糖衣陷阱润唇膏 保湿滋润护唇去角质淡化唇纹 100\n",
      "insert into prod_schema.prod_info (pid, pname, pprice) values (83, 'LUSH岚舒 英国正品 糖衣陷阱润唇膏 保湿滋润护唇去角质淡化唇纹', 100)\n",
      "84 LUSH岚舒 日本正品 梦想成真润肤乳 滋润保湿身体乳抗敏全身精油 180\n",
      "insert into prod_schema.prod_info (pid, pname, pprice) values (84, 'LUSH岚舒 日本正品 梦想成真润肤乳 滋润保湿身体乳抗敏全身精油', 180)\n",
      "85 日本LUSH岚舒男女保湿隔离紫外线清爽全身防晒乳 活力阳光防晒粉 110\n",
      "insert into prod_schema.prod_info (pid, pname, pprice) values (85, '日本LUSH岚舒男女保湿隔离紫外线清爽全身防晒乳 活力阳光防晒粉', 110)\n",
      "86 LUSH岚舒 日本进口木炭祛味爽身粉 男女无味香体持久护理 85\n",
      "insert into prod_schema.prod_info (pid, pname, pprice) values (86, 'LUSH岚舒 日本进口木炭祛味爽身粉 男女无味香体持久护理', 85)\n",
      "87 LUSH岚舒 日本正品 头皮健康万用膏 去头屑 抗敏感 修复精油 护理 170\n",
      "insert into prod_schema.prod_info (pid, pname, pprice) values (87, 'LUSH岚舒 日本正品 头皮健康万用膏 去头屑 抗敏感 修复精油 护理', 170)\n",
      "88 LUSH岚舒 英国正品 奇妙恩典精华芭 滋润保湿 面部护理 手工 125\n",
      "insert into prod_schema.prod_info (pid, pname, pprice) values (88, 'LUSH岚舒 英国正品 奇妙恩典精华芭 滋润保湿 面部护理 手工', 125)\n",
      "89 LUSH岚舒 奶黄深层护发 修护干燥 滋润精油 护理改善毛躁 保湿 145\n",
      "insert into prod_schema.prod_info (pid, pname, pprice) values (89, 'LUSH岚舒 奶黄深层护发 修护干燥 滋润精油 护理改善毛躁 保湿', 145)\n",
      "90 LUSH岚舒 英国正品 蓬松拜拜深层护发 修护损伤干燥 滋润护理 200\n",
      "insert into prod_schema.prod_info (pid, pname, pprice) values (90, 'LUSH岚舒 英国正品 蓬松拜拜深层护发 修护损伤干燥 滋润护理', 200)\n",
      "91 LUSH岚舒 日本进口茶树祛味砖 男女无味香体持久护理 80\n",
      "insert into prod_schema.prod_info (pid, pname, pprice) values (91, 'LUSH岚舒 日本进口茶树祛味砖 男女无味香体持久护理', 80)\n",
      "92 LUSH岚舒 日本进口草本祛味爽身粉 消除异味男女无味香体持久护理 85\n",
      "insert into prod_schema.prod_info (pid, pname, pprice) values (92, 'LUSH岚舒 日本进口草本祛味爽身粉 消除异味男女无味香体持久护理', 85)\n",
      "93 LUSH岚舒日本正品男女头发定型保湿发胶喷雾 海洋造型修护喷雾 140\n",
      "insert into prod_schema.prod_info (pid, pname, pprice) values (93, 'LUSH岚舒日本正品男女头发定型保湿发胶喷雾 海洋造型修护喷雾', 140)\n",
      "94 LUSH岚舒 日本正品 动感免冲洗护发霜 保湿滋润免洗护发素 175\n",
      "insert into prod_schema.prod_info (pid, pname, pprice) values (94, 'LUSH岚舒 日本正品 动感免冲洗护发霜 保湿滋润免洗护发素', 175)\n",
      "95 冰菊祛味砖 英国LUSH岚舒正品男女持久香体护理清凉舒缓抑菌爽身 76\n",
      "insert into prod_schema.prod_info (pid, pname, pprice) values (95, '冰菊祛味砖 英国LUSH岚舒正品男女持久香体护理清凉舒缓抑菌爽身', 76)\n",
      "96 LUSH岚舒 英国正品 发根养分深层护发 防脱发 改善毛躁 修护损伤 145\n",
      "insert into prod_schema.prod_info (pid, pname, pprice) values (96, 'LUSH岚舒 英国正品 发根养分深层护发 防脱发 改善毛躁 修护损伤', 145)\n",
      "97 LUSH岚舒 日本正品 闪电去痘控油啫喱 保湿补水祛痘精华 100\n",
      "insert into prod_schema.prod_info (pid, pname, pprice) values (97, 'LUSH岚舒 日本正品 闪电去痘控油啫喱 保湿补水祛痘精华', 100)\n",
      "98 LUSH岚舒 英国正品 好帮手润手霜 补水保湿 滋润手部护理 105\n",
      "insert into prod_schema.prod_info (pid, pname, pprice) values (98, 'LUSH岚舒 英国正品 好帮手润手霜 补水保湿 滋润手部护理', 105)\n",
      "99 LUSH岚舒 日本正品 滑不溜手润手霜 补水滋润 护理 保湿 护手霜 125\n",
      "insert into prod_schema.prod_info (pid, pname, pprice) values (99, 'LUSH岚舒 日本正品 滑不溜手润手霜 补水滋润 护理 保湿 护手霜', 125)\n",
      "100 LUSH岚舒 日本正品 Dirty牙膏粒 去牙渍去口臭 护理草本成分 颗粒 75\n",
      "insert into prod_schema.prod_info (pid, pname, pprice) values (100, 'LUSH岚舒 日本正品 Dirty牙膏粒 去牙渍去口臭 护理草本成分 颗粒', 75)\n",
      "101 LUSH 岚舒 日本正品 奇趣绿泡泡皂  补水保湿精油沐浴洗发 85\n",
      "insert into prod_schema.prod_info (pid, pname, pprice) values (101, 'LUSH 岚舒 日本正品 奇趣绿泡泡皂  补水保湿精油沐浴洗发', 85)\n",
      "102 LUSH岚舒 英国正品 柠檬忌廉护甲霜 补水滋润保湿 去角质滋养 90\n",
      "insert into prod_schema.prod_info (pid, pname, pprice) values (102, 'LUSH岚舒 英国正品 柠檬忌廉护甲霜 补水滋润保湿 去角质滋养', 90)\n",
      "103 LUSH岚舒 日本正品 摩洛哥坚果身体修护霜 滋润保湿精油身体乳 230\n",
      "insert into prod_schema.prod_info (pid, pname, pprice) values (103, 'LUSH岚舒 日本正品 摩洛哥坚果身体修护霜 滋润保湿精油身体乳', 230)\n",
      "104 LUSH岚舒 洗发皂圆形铁盒 32\n",
      "insert into prod_schema.prod_info (pid, pname, pprice) values (104, 'LUSH岚舒 洗发皂圆形铁盒', 32)\n",
      "105 LUSH岚舒 英国正品 火山泥脚膜 去死皮 补水滋润保湿去角质 足部 105\n",
      "insert into prod_schema.prod_info (pid, pname, pprice) values (105, 'LUSH岚舒 英国正品 火山泥脚膜 去死皮 补水滋润保湿去角质 足部', 105)\n",
      "106 LUSH岚舒 英国正品 心心相印按摩芭滋润保湿去角质护理 提亮肤色 80\n",
      "insert into prod_schema.prod_info (pid, pname, pprice) values (106, 'LUSH岚舒 英国正品 心心相印按摩芭滋润保湿去角质护理 提亮肤色', 80)\n",
      "107 LUSH岚舒 英国正品 奇妙历程按摩芭 滋润保湿身体护理 95\n",
      "insert into prod_schema.prod_info (pid, pname, pprice) values (107, 'LUSH岚舒 英国正品 奇妙历程按摩芭 滋润保湿身体护理', 95)\n",
      "108 LUSH岚舒 日本正品 草莓按摩芭 提亮肤色滋润保湿去角质护理 90\n",
      "insert into prod_schema.prod_info (pid, pname, pprice) values (108, 'LUSH岚舒 日本正品 草莓按摩芭 提亮肤色滋润保湿去角质护理', 90)\n",
      "109 芝麻古铜防晒乳 英国LUSH岚舒正品男女滋润隔离紫外线全身防晒乳 115\n",
      "insert into prod_schema.prod_info (pid, pname, pprice) values (109, '芝麻古铜防晒乳 英国LUSH岚舒正品男女滋润隔离紫外线全身防晒乳', 115)\n",
      "110 LUSH岚舒 英国正品 青柠特饮沐浴啫喱 提神醒脑 男/女 保湿滋润 60\n",
      "insert into prod_schema.prod_info (pid, pname, pprice) values (110, 'LUSH岚舒 英国正品 青柠特饮沐浴啫喱 提神醒脑 男/女 保湿滋润', 60)\n",
      "111 LUSH岚舒 英国正品 甜美芒我按摩芭 提亮肤色滋润保湿护理 90\n",
      "insert into prod_schema.prod_info (pid, pname, pprice) values (111, 'LUSH岚舒 英国正品 甜美芒我按摩芭 提亮肤色滋润保湿护理', 90)\n",
      "112 LUSHLUSH岚舒 日本进口 菠萝清爽洁面霜 保湿清洁 滋润肌肤 110\n",
      "insert into prod_schema.prod_info (pid, pname, pprice) values (112, 'LUSHLUSH岚舒 日本进口 菠萝清爽洁面霜 保湿清洁 滋润肌肤', 110)\n",
      "113 LUSH岚舒英国进口正品 慈善爱心润肤乳 保湿滋润补水精油 185\n",
      "insert into prod_schema.prod_info (pid, pname, pprice) values (113, 'LUSH岚舒英国进口正品 慈善爱心润肤乳 保湿滋润补水精油', 185)\n",
      "114 LUSH岚舒日本正品男女滋养舒缓隔离紫外线防晒乳 日光浴防晒芭 125\n",
      "insert into prod_schema.prod_info (pid, pname, pprice) values (114, 'LUSH岚舒日本正品男女滋养舒缓隔离紫外线防晒乳 日光浴防晒芭', 125)\n",
      "115 LUSH岚舒 英国正品 焕然一身润肤芭 滋润保湿 去角质 提亮肤色 90\n",
      "insert into prod_schema.prod_info (pid, pname, pprice) values (115, 'LUSH岚舒 英国正品 焕然一身润肤芭 滋润保湿 去角质 提亮肤色', 90)\n",
      "116 LUSH岚舒 日本正品 足福爽脚粉 足部护理 止汗补水滋润保湿去角质 70\n",
      "insert into prod_schema.prod_info (pid, pname, pprice) values (116, 'LUSH岚舒 日本正品 足福爽脚粉 足部护理 止汗补水滋润保湿去角质', 70)\n",
      "117 LUSH岚舒官方 日本正品  热力无限按摩芭 滋润保湿 护理 100\n",
      "insert into prod_schema.prod_info (pid, pname, pprice) values (117, 'LUSH岚舒官方 日本正品  热力无限按摩芭 滋润保湿 护理', 100)\n",
      "118 LUSH岚舒 日本正品 和平号按摩芭 滋润保湿去角质护理 128\n",
      "insert into prod_schema.prod_info (pid, pname, pprice) values (118, 'LUSH岚舒 日本正品 和平号按摩芭 滋润保湿去角质护理', 128)\n",
      "119 LUSH岚舒 英国正品 蜜月假期按摩芭 滋润保湿护理 80\n",
      "insert into prod_schema.prod_info (pid, pname, pprice) values (119, 'LUSH岚舒 英国正品 蜜月假期按摩芭 滋润保湿护理', 80)\n",
      "120 LUSH岚舒 英国正品 热情岛按摩芭 滋润保湿护理 80\n",
      "insert into prod_schema.prod_info (pid, pname, pprice) values (120, 'LUSH岚舒 英国正品 热情岛按摩芭 滋润保湿护理', 80)\n",
      "121 LUSH岚舒 英国正品 闪烁的心按摩芭 提亮肤色滋润保湿护理 55\n",
      "insert into prod_schema.prod_info (pid, pname, pprice) values (121, 'LUSH岚舒 英国正品 闪烁的心按摩芭 提亮肤色滋润保湿护理', 55)\n",
      "122 LUSH岚舒 英国正品 谷麦面包洁面皂 滋润提亮去角质不紧绷洁面 75\n",
      "insert into prod_schema.prod_info (pid, pname, pprice) values (122, 'LUSH岚舒 英国正品 谷麦面包洁面皂 滋润提亮去角质不紧绷洁面', 75)\n",
      "123 LUSH岚舒 英国正品 柠汁香薰磨砂沐浴露 去角质精油 补水全身沐浴 120\n",
      "insert into prod_schema.prod_info (pid, pname, pprice) values (123, 'LUSH岚舒 英国正品 柠汁香薰磨砂沐浴露 去角质精油 补水全身沐浴', 120)\n",
      "124 英国LUSH岚舒 正品魔法香油袋 滋润 浴油 滋养精油香薰保湿 60\n",
      "insert into prod_schema.prod_info (pid, pname, pprice) values (124, '英国LUSH岚舒 正品魔法香油袋 滋润 浴油 滋养精油香薰保湿', 60)\n",
      "125 LUSH岚舒 英国正品 柠檬红茶按摩芭 滋润保湿护理镇定肌肤 100\n",
      "insert into prod_schema.prod_info (pid, pname, pprice) values (125, 'LUSH岚舒 英国正品 柠檬红茶按摩芭 滋润保湿护理镇定肌肤', 100)\n",
      "126 LUSH岚舒 Dirty按摩芭 滋润保湿去角身体护理 100\n",
      "insert into prod_schema.prod_info (pid, pname, pprice) values (126, 'LUSH岚舒 Dirty按摩芭 滋润保湿去角身体护理', 100)\n",
      "127 LUSH岚舒 日本正品 珍珠按摩芭  滋润保湿护理 平衡修复 110\n",
      "insert into prod_schema.prod_info (pid, pname, pprice) values (127, 'LUSH岚舒 日本正品 珍珠按摩芭  滋润保湿护理 平衡修复', 110)\n",
      "128 LUSH岚舒 英国正品 我爱蜜糖儿洗发皂 顺滑清香 修复干燥 精油 95\n",
      "insert into prod_schema.prod_info (pid, pname, pprice) values (128, 'LUSH岚舒 英国正品 我爱蜜糖儿洗发皂 顺滑清香 修复干燥 精油', 95)\n",
      "129 LUSH岚舒 日本正品 咖啡豆按摩芭 滋润保湿护理 镇定肌肤 110\n",
      "insert into prod_schema.prod_info (pid, pname, pprice) values (129, 'LUSH岚舒 日本正品 咖啡豆按摩芭 滋润保湿护理 镇定肌肤', 110)\n",
      "130 英国LUSH岚舒 摩洛哥坚果手工洗发皂 滋养保湿柔顺秀发强韧亮泽 95\n",
      "insert into prod_schema.prod_info (pid, pname, pprice) values (130, '英国LUSH岚舒 摩洛哥坚果手工洗发皂 滋养保湿柔顺秀发强韧亮泽', 95)\n",
      "131 LUSH岚舒 日本正品 摇篮曲洗发皂 滋养 保湿 正品手工皂 95\n",
      "insert into prod_schema.prod_info (pid, pname, pprice) values (131, 'LUSH岚舒 日本正品 摇篮曲洗发皂 滋养 保湿 正品手工皂', 95)\n",
      "132 LUSH岚舒 日本正品 热情桑巴洗发皂 滋养 保湿 正品手工皂 95\n",
      "insert into prod_schema.prod_info (pid, pname, pprice) values (132, 'LUSH岚舒 日本正品 热情桑巴洗发皂 滋养 保湿 正品手工皂', 95)\n",
      "133 LUSH岚舒 日本正品 柠檬清爽洗发皂 滋润保湿 手工皂 洗发 泡沫 95\n",
      "insert into prod_schema.prod_info (pid, pname, pprice) values (133, 'LUSH岚舒 日本正品 柠檬清爽洗发皂 滋润保湿 手工皂 洗发 泡沫', 95)\n",
      "134 LUSH岚舒 英国正品 亮泽护色洗发皂 保湿  修复干燥 精油滋润 95\n",
      "insert into prod_schema.prod_info (pid, pname, pprice) values (134, 'LUSH岚舒 英国正品 亮泽护色洗发皂 保湿  修复干燥 精油滋润', 95)\n",
      "135 LUSHLUSH岚舒 日本正品梦想成真润肤霜-自然防腐配方 保湿身体乳 180\n",
      "insert into prod_schema.prod_info (pid, pname, pprice) values (135, 'LUSHLUSH岚舒 日本正品梦想成真润肤霜-自然防腐配方 保湿身体乳', 180)\n",
      "136 Lush岚舒 日本进口香草甜心香水膏 花果香调 固体 持久清新除臭 110\n",
      "insert into prod_schema.prod_info (pid, pname, pprice) values (136, 'Lush岚舒 日本进口香草甜心香水膏 花果香调 固体 持久清新除臭', 110)\n",
      "137 Lush岚舒 日本进口新的章节香水膏 混合香调 固体 持久清新除臭 140\n",
      "insert into prod_schema.prod_info (pid, pname, pprice) values (137, 'Lush岚舒 日本进口新的章节香水膏 混合香调 固体 持久清新除臭', 140)\n",
      "138 Lush岚舒 日本进口檀香之旅香水膏 树木香调 固体 持久清新除臭 125\n",
      "insert into prod_schema.prod_info (pid, pname, pprice) values (138, 'Lush岚舒 日本进口檀香之旅香水膏 树木香调 固体 持久清新除臭', 125)\n",
      "139 Lush岚舒 日本进口润肤芭方形铁盒 35\n",
      "insert into prod_schema.prod_info (pid, pname, pprice) values (139, 'Lush岚舒 日本进口润肤芭方形铁盒', 35)\n",
      "140 Lush岚舒 日本 进口生死之源香水膏 花香调 固体 持久清新除臭 115\n",
      "insert into prod_schema.prod_info (pid, pname, pprice) values (140, 'Lush岚舒 日本 进口生死之源香水膏 花香调 固体 持久清新除臭', 115)\n",
      "141 Lush岚舒 日本进口紫罗兰香水膏 花香调 固体 持久清新除臭 125\n",
      "insert into prod_schema.prod_info (pid, pname, pprice) values (141, 'Lush岚舒 日本进口紫罗兰香水膏 花香调 固体 持久清新除臭', 125)\n",
      "142 Lush岚舒 日本正品 花样玫瑰香水膏 花香调 固体 持久清新除臭 165\n",
      "insert into prod_schema.prod_info (pid, pname, pprice) values (142, 'Lush岚舒 日本正品 花样玫瑰香水膏 花香调 固体 持久清新除臭', 165)\n",
      "143 Lush岚舒 日本进口和谐心灵香水膏 花果香调 固体 持久清新除臭 95\n",
      "insert into prod_schema.prod_info (pid, pname, pprice) values (143, 'Lush岚舒 日本进口和谐心灵香水膏 花果香调 固体 持久清新除臭', 95)\n",
      "144 Lush岚舒 日本正品诱惑男女香水膏 花香调 固体 持久清新除臭 95\n",
      "insert into prod_schema.prod_info (pid, pname, pprice) values (144, 'Lush岚舒 日本正品诱惑男女香水膏 花香调 固体 持久清新除臭', 95)\n",
      "145 Lush岚舒 英国进口阳光路上香水膏 花果香调 固体 持久清新除臭 85\n",
      "insert into prod_schema.prod_info (pid, pname, pprice) values (145, 'Lush岚舒 英国进口阳光路上香水膏 花果香调 固体 持久清新除臭', 85)\n",
      "146 Lush岚舒 英国进口锡金女郎香水膏 东方香调 固体 持久清新除臭 115\n",
      "insert into prod_schema.prod_info (pid, pname, pprice) values (146, 'Lush岚舒 英国进口锡金女郎香水膏 东方香调 固体 持久清新除臭', 115)\n",
      "147 Lush岚舒 英国进口按摩芭椭圆铁盒 35\n",
      "insert into prod_schema.prod_info (pid, pname, pprice) values (147, 'Lush岚舒 英国进口按摩芭椭圆铁盒', 35)\n",
      "148 LUSH岚舒 英国进口香氛体验按摩芭 温和 滋润保湿 护理 100\n",
      "insert into prod_schema.prod_info (pid, pname, pprice) values (148, 'LUSH岚舒 英国进口香氛体验按摩芭 温和 滋润保湿 护理', 100)\n",
      "149 LUSHLUSH岚舒 日本进口 多效自然调色粉底霜 滋养提亮肤色7色可选 115\n",
      "insert into prod_schema.prod_info (pid, pname, pprice) values (149, 'LUSHLUSH岚舒 日本进口 多效自然调色粉底霜 滋养提亮肤色7色可选', 115)\n",
      "150 英国LUSH岚舒正品胡子定型乳霜 天然柔软增添魅力 胡子造型修护蜡 105\n",
      "insert into prod_schema.prod_info (pid, pname, pprice) values (150, '英国LUSH岚舒正品胡子定型乳霜 天然柔软增添魅力 胡子造型修护蜡', 105)\n",
      "151 LUSH岚舒 英国正品 父亲的柠檬树身体喷雾 香氛喷雾保湿止汗 香水 270\n",
      "insert into prod_schema.prod_info (pid, pname, pprice) values (151, 'LUSH岚舒 英国正品 父亲的柠檬树身体喷雾 香氛喷雾保湿止汗 香水', 270)\n",
      "152 LUSH岚舒 日本进口 阳光之花礼盒 沐浴泡澡泡弹超多泡泡手工滋润 115\n",
      "insert into prod_schema.prod_info (pid, pname, pprice) values (152, 'LUSH岚舒 日本进口 阳光之花礼盒 沐浴泡澡泡弹超多泡泡手工滋润', 115)\n",
      "153 LUSHLUSH岚舒 日本进口 蜜糖儿礼盒 沐浴泡澡超多泡泡手工滋润 305\n",
      "insert into prod_schema.prod_info (pid, pname, pprice) values (153, 'LUSHLUSH岚舒 日本进口 蜜糖儿礼盒 沐浴泡澡超多泡泡手工滋润', 305)\n",
      "154 LUSH岚舒 日本正品 咖啡面膜 面膜泥 清洁 提亮肤色 105\n",
      "insert into prod_schema.prod_info (pid, pname, pprice) values (154, 'LUSH岚舒 日本正品 咖啡面膜 面膜泥 清洁 提亮肤色', 105)\n",
      "155 LUSH岚舒 英国正品快乐源泉润手霜 补水保湿滋润 护理 120\n",
      "insert into prod_schema.prod_info (pid, pname, pprice) values (155, 'LUSH岚舒 英国正品快乐源泉润手霜 补水保湿滋润 护理', 120)\n",
      "156 LUSH岚舒 日本正品 柔肤磨砂芭  精油 补水全身沐浴露滋润进口 90\n",
      "insert into prod_schema.prod_info (pid, pname, pprice) values (156, 'LUSH岚舒 日本正品 柔肤磨砂芭  精油 补水全身沐浴露滋润进口', 90)\n",
      "157 LUSH岚舒 英国正品 清新舒爽沐浴啫喱 男/女 保湿全身 滋润精油 60\n",
      "insert into prod_schema.prod_info (pid, pname, pprice) values (157, 'LUSH岚舒 英国正品 清新舒爽沐浴啫喱 男/女 保湿全身 滋润精油', 60)\n",
      "158 英国LUSH岚舒 正品粉红之翼泡泡浴芭 泡澡浴芭 水果滋润沐浴 95\n",
      "insert into prod_schema.prod_info (pid, pname, pprice) values (158, '英国LUSH岚舒 正品粉红之翼泡泡浴芭 泡澡浴芭 水果滋润沐浴', 95)\n",
      "159 LUSH岚舒 英国正品 自然力量香氛皂 镇静调理 滋润手工精油皂 53\n",
      "insert into prod_schema.prod_info (pid, pname, pprice) values (159, 'LUSH岚舒 英国正品 自然力量香氛皂 镇静调理 滋润手工精油皂', 53)\n",
      "160 英国LUSH岚舒 正品 探索号汽泡弹 滋润香薰滋润沐浴泡澡浴弹 60\n",
      "insert into prod_schema.prod_info (pid, pname, pprice) values (160, '英国LUSH岚舒 正品 探索号汽泡弹 滋润香薰滋润沐浴泡澡浴弹', 60)\n",
      "161 英国LUSH岚舒 正品 璀璨星河汽泡弹 滋润香薰滋润沐浴泡澡浴弹 60\n",
      "insert into prod_schema.prod_info (pid, pname, pprice) values (161, '英国LUSH岚舒 正品 璀璨星河汽泡弹 滋润香薰滋润沐浴泡澡浴弹', 60)\n",
      "162 英国LUSH岚舒 正品 飘雪王国汽泡弹 滋润香薰滋润 沐浴泡澡浴弹 60\n",
      "insert into prod_schema.prod_info (pid, pname, pprice) values (162, '英国LUSH岚舒 正品 飘雪王国汽泡弹 滋润香薰滋润 沐浴泡澡浴弹', 60)\n",
      "163 英国LUSH岚舒 正品乳滑泡泡浴芭 牛奶浴泡澡浴芭水果滋润香薰沐浴 55\n",
      "insert into prod_schema.prod_info (pid, pname, pprice) values (163, '英国LUSH岚舒 正品乳滑泡泡浴芭 牛奶浴泡澡浴芭水果滋润香薰沐浴', 55)\n",
      "164 LUSH岚舒 日本正品柚子可可沐浴乳补水保湿天然滋润清爽控油 75\n",
      "insert into prod_schema.prod_info (pid, pname, pprice) values (164, 'LUSH岚舒 日本正品柚子可可沐浴乳补水保湿天然滋润清爽控油', 75)\n",
      "165 LUSH岚舒 英国正品 桉树香氛皂 滋润舒缓手工精油皂 53\n",
      "insert into prod_schema.prod_info (pid, pname, pprice) values (165, 'LUSH岚舒 英国正品 桉树香氛皂 滋润舒缓手工精油皂', 53)\n",
      "166 英国LUSH岚舒 正品奇幻旅程泡泡浴芭 泡澡浴芭 水果滋润沐浴 50\n",
      "insert into prod_schema.prod_info (pid, pname, pprice) values (166, '英国LUSH岚舒 正品奇幻旅程泡泡浴芭 泡澡浴芭 水果滋润沐浴', 50)\n",
      "167 LUSH岚舒 英国正品果汁彩虹香氛皂 滋润手工精油皂 沐浴皂 53\n",
      "insert into prod_schema.prod_info (pid, pname, pprice) values (167, 'LUSH岚舒 英国正品果汁彩虹香氛皂 滋润手工精油皂 沐浴皂', 53)\n",
      "168 LUSH岚舒 日本正品 平静心境汽泡弹 滋润香薰滋润沐浴泡澡浴弹 60\n",
      "insert into prod_schema.prod_info (pid, pname, pprice) values (168, 'LUSH岚舒 日本正品 平静心境汽泡弹 滋润香薰滋润沐浴泡澡浴弹', 60)\n",
      "169 LUSH岚舒 英国正品 摇滚巨星香氛皂滋润手工精油皂 沐浴皂 52\n",
      "insert into prod_schema.prod_info (pid, pname, pprice) values (169, 'LUSH岚舒 英国正品 摇滚巨星香氛皂滋润手工精油皂 沐浴皂', 52)\n",
      "170 LUSH岚舒 日本正品 果香美人香氛皂  亮肤滋润手工精油皂 53\n",
      "insert into prod_schema.prod_info (pid, pname, pprice) values (170, 'LUSH岚舒 日本正品 果香美人香氛皂  亮肤滋润手工精油皂', 53)\n",
      "171 LUSH岚舒 日本正品 香芹手工香氛皂精油皂 滋润天然 舒适清爽 61\n",
      "insert into prod_schema.prod_info (pid, pname, pprice) values (171, 'LUSH岚舒 日本正品 香芹手工香氛皂精油皂 滋润天然 舒适清爽', 61)\n",
      "172 LUSH岚舒 日本正品 欢乐庆典香氛皂 清凉沐浴滋润手工精油皂 49\n",
      "insert into prod_schema.prod_info (pid, pname, pprice) values (172, 'LUSH岚舒 日本正品 欢乐庆典香氛皂 清凉沐浴滋润手工精油皂', 49)\n",
      "173 LUSH岚舒 日本正品 情迷无花果手工香氛 去角质精油皂沐浴补水 52\n",
      "insert into prod_schema.prod_info (pid, pname, pprice) values (173, 'LUSH岚舒 日本正品 情迷无花果手工香氛 去角质精油皂沐浴补水', 52)\n",
      "174 英国LUSH岚舒男女头发定型干发保湿发胶发乳 奶油冻造型修护乳霜 200\n",
      "insert into prod_schema.prod_info (pid, pname, pprice) values (174, '英国LUSH岚舒男女头发定型干发保湿发胶发乳 奶油冻造型修护乳霜', 200)\n",
      "175 LUSH岚舒 日本正品 柔顺护发砖 柔顺无硅油滋润护理 缓解毛躁干枯 100\n",
      "insert into prod_schema.prod_info (pid, pname, pprice) values (175, 'LUSH岚舒 日本正品 柔顺护发砖 柔顺无硅油滋润护理 缓解毛躁干枯', 100)\n",
      "176 LUSH岚舒 日本正品 健步如飞润脚霜 滋润 护理保湿 修护 210\n",
      "insert into prod_schema.prod_info (pid, pname, pprice) values (176, 'LUSH岚舒 日本正品 健步如飞润脚霜 滋润 护理保湿 修护', 210)\n",
      "177 LUSH岚舒 正品英国 卷曲护发砖 精油滋润护理 保湿 健康随意 100\n",
      "insert into prod_schema.prod_info (pid, pname, pprice) values (177, 'LUSH岚舒 正品英国 卷曲护发砖 精油滋润护理 保湿 健康随意', 100)\n",
      "178 LUSH岚舒 正品英国 轻柔润脚霜 补水保湿 滋润  质地温和润肤霜 210\n",
      "insert into prod_schema.prod_info (pid, pname, pprice) values (178, 'LUSH岚舒 正品英国 轻柔润脚霜 补水保湿 滋润  质地温和润肤霜', 210)\n",
      "179 LUSH岚舒 日本正品 修复护发砖 提亮修护干燥 滋润精油护理护发素 100\n",
      "insert into prod_schema.prod_info (pid, pname, pprice) values (179, 'LUSH岚舒 日本正品 修复护发砖 提亮修护干燥 滋润精油护理护发素', 100)\n",
      "180 LUSH岚舒 日本正品 绿色发宝护发皂 修复干燥 柔顺 精油滋润护理 90\n",
      "insert into prod_schema.prod_info (pid, pname, pprice) values (180, 'LUSH岚舒 日本正品 绿色发宝护发皂 修复干燥 柔顺 精油滋润护理', 90)\n",
      "181 LUSH岚舒 英国正品 紫罗亮泽护发皂 修护柔顺无硅油精油滋润护理 90\n",
      "insert into prod_schema.prod_info (pid, pname, pprice) values (181, 'LUSH岚舒 英国正品 紫罗亮泽护发皂 修护柔顺无硅油精油滋润护理', 90)\n",
      "182 LUSH岚舒 日本正品 活力洗发露 男/女 无硅油 持久 保湿 滋润 100\n",
      "insert into prod_schema.prod_info (pid, pname, pprice) values (182, 'LUSH岚舒 日本正品 活力洗发露 男/女 无硅油 持久 保湿 滋润', 100)\n",
      "183 LUSH岚舒 日本正品 金手掌护手膜 补水滋润保湿护理 去角质 45\n",
      "insert into prod_schema.prod_info (pid, pname, pprice) values (183, 'LUSH岚舒 日本正品 金手掌护手膜 补水滋润保湿护理 去角质', 45)\n",
      "184 LUSH岚舒 英国正品 浴望号沐浴霜 精油 补水全身沐浴露滋润进口 76\n",
      "insert into prod_schema.prod_info (pid, pname, pprice) values (184, 'LUSH岚舒 英国正品 浴望号沐浴霜 精油 补水全身沐浴露滋润进口', 76)\n",
      "185 LUSH岚舒 日本正品 神奇之树面霜  滋养 保湿舒缓角质修复霜 430\n",
      "insert into prod_schema.prod_info (pid, pname, pprice) values (185, 'LUSH岚舒 日本正品 神奇之树面霜  滋养 保湿舒缓角质修复霜', 430)\n",
      "186 LUSH岚舒 英国正品 中东情缘玫瑰沐浴霜 精油 补水全身沐浴露滋润 131\n",
      "insert into prod_schema.prod_info (pid, pname, pprice) values (186, 'LUSH岚舒 英国正品 中东情缘玫瑰沐浴霜 精油 补水全身沐浴露滋润', 131)\n",
      "187 LUSH岚舒 日本正品 美好心情沐浴露男/女 补水保湿精油滋润 145\n",
      "insert into prod_schema.prod_info (pid, pname, pprice) values (187, 'LUSH岚舒 日本正品 美好心情沐浴露男/女 补水保湿精油滋润', 145)\n",
      "188 LUSH岚舒 日本正品 足福润脚霜 补水滋润保湿去角质 足部护理 150\n",
      "insert into prod_schema.prod_info (pid, pname, pprice) values (188, 'LUSH岚舒 日本正品 足福润脚霜 补水滋润保湿去角质 足部护理', 150)\n",
      "189 英国LUSH岚舒 正品霹雳宇宙泡泡浴芭 泡澡浴芭 水果滋润香薰沐浴 60\n",
      "insert into prod_schema.prod_info (pid, pname, pprice) values (189, '英国LUSH岚舒 正品霹雳宇宙泡泡浴芭 泡澡浴芭 水果滋润香薰沐浴', 60)\n",
      "190 LUSH岚舒 英国正品 勇往直前沐浴啫喱 男/女 保湿全身 滋润精油 60\n",
      "insert into prod_schema.prod_info (pid, pname, pprice) values (190, 'LUSH岚舒 英国正品 勇往直前沐浴啫喱 男/女 保湿全身 滋润精油', 60)\n",
      "191 LUSH岚舒 日本正品 小海怪奇趣泡泡皂 补水保湿精油沐浴洗发 85\n",
      "insert into prod_schema.prod_info (pid, pname, pprice) values (191, 'LUSH岚舒 日本正品 小海怪奇趣泡泡皂 补水保湿精油沐浴洗发', 85)\n",
      "192 LUSH岚舒 日本正品 忘记他沐浴露 男女保湿滋润精油手工 75\n",
      "insert into prod_schema.prod_info (pid, pname, pprice) values (192, 'LUSH岚舒 日本正品 忘记他沐浴露 男女保湿滋润精油手工', 75)\n",
      "193 英国LUSH岚舒男女头发定型保湿清香发胶发蜡 蜂蜜皇后造型修护蜡 152\n",
      "insert into prod_schema.prod_info (pid, pname, pprice) values (193, '英国LUSH岚舒男女头发定型保湿清香发胶发蜡 蜂蜜皇后造型修护蜡', 152)\n",
      "194 英国LUSH岚舒男女免洗头发喷雾定型保湿发胶 快乐晴天造型喷雾 155\n",
      "insert into prod_schema.prod_info (pid, pname, pprice) values (194, '英国LUSH岚舒男女免洗头发喷雾定型保湿发胶 快乐晴天造型喷雾', 155)\n",
      "195 LUSH岚舒 日本正品 草莓润唇膏 玫红色泽手工去角质淡化唇纹 滋润 95\n",
      "insert into prod_schema.prod_info (pid, pname, pprice) values (195, 'LUSH岚舒 日本正品 草莓润唇膏 玫红色泽手工去角质淡化唇纹 滋润', 95)\n",
      "196 LUSH岚舒 英国正品 青松沐浴啫喱 补水保湿全身 滋润精油手工 60\n",
      "insert into prod_schema.prod_info (pid, pname, pprice) values (196, 'LUSH岚舒 英国正品 青松沐浴啫喱 补水保湿全身 滋润精油手工', 60)\n",
      "197 LUSH岚舒 日本正品 天外来客奇趣泡泡皂 补水保湿精油沐浴洗发 85\n",
      "insert into prod_schema.prod_info (pid, pname, pprice) values (197, 'LUSH岚舒 日本正品 天外来客奇趣泡泡皂 补水保湿精油沐浴洗发', 85)\n",
      "198 LUSH岚舒 日本正品 自主大道沐浴露 男/女补水保湿滋润精油 75\n",
      "insert into prod_schema.prod_info (pid, pname, pprice) values (198, 'LUSH岚舒 日本正品 自主大道沐浴露 男/女补水保湿滋润精油', 75)\n",
      "199 LUSH岚舒 日本正品 天鹅绒沐浴乳 补水保湿全身滋润精油 75\n",
      "insert into prod_schema.prod_info (pid, pname, pprice) values (199, 'LUSH岚舒 日本正品 天鹅绒沐浴乳 补水保湿全身滋润精油', 75)\n",
      "200 LUSH岚舒 日本正品 轻松一刻剃毛霜 安全防过敏快速脱毛膏 手工 125\n",
      "insert into prod_schema.prod_info (pid, pname, pprice) values (200, 'LUSH岚舒 日本正品 轻松一刻剃毛霜 安全防过敏快速脱毛膏 手工', 125)\n",
      "201 LUSH岚舒 英国正品 青柠润唇膏 去角质淡化唇纹 滋润去死皮 手工 100\n",
      "insert into prod_schema.prod_info (pid, pname, pprice) values (201, 'LUSH岚舒 英国正品 青柠润唇膏 去角质淡化唇纹 滋润去死皮 手工', 100)\n",
      "202 LUSH岚舒 日本正品 金光牙膏粒 美白去牙渍去口臭 颗粒护理 手工 90\n",
      "insert into prod_schema.prod_info (pid, pname, pprice) values (202, 'LUSH岚舒 日本正品 金光牙膏粒 美白去牙渍去口臭 颗粒护理 手工', 90)\n",
      "203 LUSH岚舒 日本正品 巴西果脂润唇膏 保湿滋润 唇部护理打底 100\n",
      "insert into prod_schema.prod_info (pid, pname, pprice) values (203, 'LUSH岚舒 日本正品 巴西果脂润唇膏 保湿滋润 唇部护理打底', 100)\n",
      "204 LUSH岚舒 英国正品 玫瑰润唇膏 淡化唇色去角质补水保湿 去死皮 100\n",
      "insert into prod_schema.prod_info (pid, pname, pprice) values (204, 'LUSH岚舒 英国正品 玫瑰润唇膏 淡化唇色去角质补水保湿 去死皮', 100)\n",
      "205 LUSH岚舒 日本正品 阳光之吻润唇膏  保湿唇部护理膏 快速滋润 95\n",
      "insert into prod_schema.prod_info (pid, pname, pprice) values (205, 'LUSH岚舒 日本正品 阳光之吻润唇膏  保湿唇部护理膏 快速滋润', 95)\n",
      "206 LUSH岚舒 英国正品 木炭牙膏粒 美白去牙渍去口臭 颗粒护理手工 90\n",
      "insert into prod_schema.prod_info (pid, pname, pprice) values (206, 'LUSH岚舒 英国正品 木炭牙膏粒 美白去牙渍去口臭 颗粒护理手工', 90)\n",
      "207 LUSH岚舒 日本正品 热情润唇膏  保湿滋润唇部护理膏 唇部打底 100\n",
      "insert into prod_schema.prod_info (pid, pname, pprice) values (207, 'LUSH岚舒 日本正品 热情润唇膏  保湿滋润唇部护理膏 唇部打底', 100)\n",
      "208 LUSH岚舒 日本正品 快感牙膏粒 去口臭去牙渍美白护理 草本成分 90\n",
      "insert into prod_schema.prod_info (pid, pname, pprice) values (208, 'LUSH岚舒 日本正品 快感牙膏粒 去口臭去牙渍美白护理 草本成分', 90)\n",
      "209 LUSH岚舒 英国正品 微笑牙膏粒 美白去牙渍去口臭 颗粒护理 手工 90\n",
      "insert into prod_schema.prod_info (pid, pname, pprice) values (209, 'LUSH岚舒 英国正品 微笑牙膏粒 美白去牙渍去口臭 颗粒护理 手工', 90)\n",
      "210 LUSH岚舒 英国正品 弹力护发皂 修护干燥柔顺 滋润护理保湿护理 105\n",
      "insert into prod_schema.prod_info (pid, pname, pprice) values (210, 'LUSH岚舒 英国正品 弹力护发皂 修护干燥柔顺 滋润护理保湿护理', 105)\n",
      "211 LUSH岚舒 日本正品 甜心萝卜礼盒沐浴浸浴泡澡 全身保湿滋润肌 245\n",
      "insert into prod_schema.prod_info (pid, pname, pprice) values (211, 'LUSH岚舒 日本正品 甜心萝卜礼盒沐浴浸浴泡澡 全身保湿滋润肌', 245)\n",
      "212 LUSH岚舒日本 盛放蔷薇汽泡弹 沐浴浸浴泡澡 补水肌肤情人节礼物 70\n",
      "insert into prod_schema.prod_info (pid, pname, pprice) values (212, 'LUSH岚舒日本 盛放蔷薇汽泡弹 沐浴浸浴泡澡 补水肌肤情人节礼物', 70)\n",
      "213 LUSH岚舒 日本正品 小甲虫泡泡浴芭泡澡浴芭 超多泡泡 香薰 65\n",
      "insert into prod_schema.prod_info (pid, pname, pprice) values (213, 'LUSH岚舒 日本正品 小甲虫泡泡浴芭泡澡浴芭 超多泡泡 香薰', 65)\n",
      "214 LUSH岚舒 英国进口 薰衣梦手工香氛皂精油皂  镇静舒缓 保湿滋润 53\n",
      "insert into prod_schema.prod_info (pid, pname, pprice) values (214, 'LUSH岚舒 英国进口 薰衣梦手工香氛皂精油皂  镇静舒缓 保湿滋润', 53)\n",
      "215 LUSH岚舒 英国正品 古铜面部修饰霜 保湿润色白皙遮瑕隔离控油 130\n",
      "insert into prod_schema.prod_info (pid, pname, pprice) values (215, 'LUSH岚舒 英国正品 古铜面部修饰霜 保湿润色白皙遮瑕隔离控油', 130)\n",
      "216 LUSH岚舒 日本正品 亮肌面部修饰霜 保湿润色白皙遮瑕隔离亮肤 130\n",
      "insert into prod_schema.prod_info (pid, pname, pprice) values (216, 'LUSH岚舒 日本正品 亮肌面部修饰霜 保湿润色白皙遮瑕隔离亮肤', 130)\n",
      "217 LUSH岚舒 英国正品 亮眼睫毛膏 纯正黑色 卷翘浓密 130\n",
      "insert into prod_schema.prod_info (pid, pname, pprice) values (217, 'LUSH岚舒 英国正品 亮眼睫毛膏 纯正黑色 卷翘浓密', 130)\n",
      "218 LUSH岚舒 日本进口 彩虹奇趣泡泡皂  补水保湿精油沐浴洗发 120\n",
      "insert into prod_schema.prod_info (pid, pname, pprice) values (218, 'LUSH岚舒 日本进口 彩虹奇趣泡泡皂  补水保湿精油沐浴洗发', 120)\n",
      "219 LUSH岚舒 英国正品 原子牙膏粉 美白去牙渍去口臭 颗粒护理 手工 75\n",
      "insert into prod_schema.prod_info (pid, pname, pprice) values (219, 'LUSH岚舒 英国正品 原子牙膏粉 美白去牙渍去口臭 颗粒护理 手工', 75)\n",
      "220 LUSH岚舒 英国正品 清风牙膏粉 美白去牙渍去口臭 颗粒护理 手工 75\n",
      "insert into prod_schema.prod_info (pid, pname, pprice) values (220, 'LUSH岚舒 英国正品 清风牙膏粉 美白去牙渍去口臭 颗粒护理 手工', 75)\n",
      "221 LUSH岚舒 英国正品 快乐王子剃毛膏 保湿收缩毛孔安全防过敏脱毛 80\n",
      "insert into prod_schema.prod_info (pid, pname, pprice) values (221, 'LUSH岚舒 英国正品 快乐王子剃毛膏 保湿收缩毛孔安全防过敏脱毛', 80)\n",
      "222 LUSH岚舒 英国正品 极上剃毛膏 保湿 收缩毛孔安全防过敏脱毛膏 80\n",
      "insert into prod_schema.prod_info (pid, pname, pprice) values (222, 'LUSH岚舒 英国正品 极上剃毛膏 保湿 收缩毛孔安全防过敏脱毛膏', 80)\n",
      "223 LUSH岚舒 日本正品 草莓剃毛霜 安全防过敏快速脱毛膏 85\n",
      "insert into prod_schema.prod_info (pid, pname, pprice) values (223, 'LUSH岚舒 日本正品 草莓剃毛霜 安全防过敏快速脱毛膏', 85)\n",
      "224 LUSH岚舒 日本正品 Dirty剃毛膏 保湿 安全防过敏快速脱毛膏 80\n",
      "insert into prod_schema.prod_info (pid, pname, pprice) values (224, 'LUSH岚舒 日本正品 Dirty剃毛膏 保湿 安全防过敏快速脱毛膏', 80)\n",
      "225 LUSH岚舒 日本进口 LUSH传奇礼盒 洗发护发沐浴泡泡浴面部身体乳 2075\n",
      "insert into prod_schema.prod_info (pid, pname, pprice) values (225, 'LUSH岚舒 日本进口 LUSH传奇礼盒 洗发护发沐浴泡泡浴面部身体乳', 2075)\n",
      "226 LUSH岚舒 日本正品 香水膏礼盒3号 固体 持久清新除臭香薰 380\n",
      "insert into prod_schema.prod_info (pid, pname, pprice) values (226, 'LUSH岚舒 日本正品 香水膏礼盒3号 固体 持久清新除臭香薰', 380)\n",
      "227 LUSH岚舒 日本进口 香水膏礼盒1号 固体 持久清新除臭香薰除异味 340\n",
      "insert into prod_schema.prod_info (pid, pname, pprice) values (227, 'LUSH岚舒 日本进口 香水膏礼盒1号 固体 持久清新除臭香薰除异味', 340)\n",
      "228 LUSH岚舒 日本正品 香水膏礼盒2号 固体 持久清新除臭香薰除异味 365\n",
      "insert into prod_schema.prod_info (pid, pname, pprice) values (228, 'LUSH岚舒 日本正品 香水膏礼盒2号 固体 持久清新除臭香薰除异味', 365)\n",
      "229 LUSH岚舒 英国正品 百花齐放环保奇迹丝巾  限量发售 70\n",
      "insert into prod_schema.prod_info (pid, pname, pprice) values (229, 'LUSH岚舒 英国正品 百花齐放环保奇迹丝巾  限量发售', 70)\n",
      "230 LUSH岚舒 日本正品 魔法万用膏 英国进口 多功效 纾缓敏感 120\n",
      "insert into prod_schema.prod_info (pid, pname, pprice) values (230, 'LUSH岚舒 日本正品 魔法万用膏 英国进口 多功效 纾缓敏感', 120)\n",
      "231 英国LUSH岚舒 幻影球汽泡弹 入驻天猫2周年店庆新品 60\n",
      "insert into prod_schema.prod_info (pid, pname, pprice) values (231, '英国LUSH岚舒 幻影球汽泡弹 入驻天猫2周年店庆新品', 60)\n",
      "232 LUSH岚舒 打击动物测试环保袋 The Fighting Animal Testing Bag 110\n",
      "insert into prod_schema.prod_info (pid, pname, pprice) values (232, 'LUSH岚舒 打击动物测试环保袋 The Fighting Animal Testing Bag', 110)\n",
      "233 LUSH岚舒 日本正品 柠檬漱口粒 去牙渍去口臭 去黄牙美白 颗粒 100\n",
      "insert into prod_schema.prod_info (pid, pname, pprice) values (233, 'LUSH岚舒 日本正品 柠檬漱口粒 去牙渍去口臭 去黄牙美白 颗粒', 100)\n",
      "234 LUSH岚舒 日本正品 薄荷漱口粒 去牙渍去口臭 去黄牙美白 颗粒 100\n",
      "insert into prod_schema.prod_info (pid, pname, pprice) values (234, 'LUSH岚舒 日本正品 薄荷漱口粒 去牙渍去口臭 去黄牙美白 颗粒', 100)\n",
      "235 LUSH岚舒 日本正品 清新漱口粒美白去牙渍去口臭 颗粒护理 手工 100\n",
      "insert into prod_schema.prod_info (pid, pname, pprice) values (235, 'LUSH岚舒 日本正品 清新漱口粒美白去牙渍去口臭 颗粒护理 手工', 100)\n",
      "236 LUSH岚舒 日本正品 海盐椰子手部磨砂 补水滋润去角质手部护理 120\n",
      "insert into prod_schema.prod_info (pid, pname, pprice) values (236, 'LUSH岚舒 日本正品 海盐椰子手部磨砂 补水滋润去角质手部护理', 120)\n",
      "237 LUSH岚舒 日本正品 蹦蹦兔洁面啫喱 滋养肌肤 135\n",
      "insert into prod_schema.prod_info (pid, pname, pprice) values (237, 'LUSH岚舒 日本正品 蹦蹦兔洁面啫喱 滋养肌肤', 135)\n",
      "238 LUSH岚舒 复活金蛋礼盒 甜蜜香气 精致丰盛 400\n",
      "insert into prod_schema.prod_info (pid, pname, pprice) values (238, 'LUSH岚舒 复活金蛋礼盒 甜蜜香气 精致丰盛', 400)\n",
      "239 LUSH岚舒 四种不同色彩 缤纷奇趣皂礼盒 发挥创意 240\n",
      "insert into prod_schema.prod_info (pid, pname, pprice) values (239, 'LUSH岚舒 四种不同色彩 缤纷奇趣皂礼盒 发挥创意', 240)\n",
      "240 LUSH岚舒 日本正品 波点奇趣蛋汽泡弹 柠檬西柚暖浴 115\n",
      "insert into prod_schema.prod_info (pid, pname, pprice) values (240, 'LUSH岚舒 日本正品 波点奇趣蛋汽泡弹 柠檬西柚暖浴', 115)\n",
      "241 LUSH岚舒 日本正品 花仙子沐浴露 滋润肌肤 105\n",
      "insert into prod_schema.prod_info (pid, pname, pprice) values (241, 'LUSH岚舒 日本正品 花仙子沐浴露 滋润肌肤', 105)\n",
      "242 LUSH岚舒 日本正品 条纹奇趣蛋汽泡弹 提升心情果香舒心 115\n",
      "insert into prod_schema.prod_info (pid, pname, pprice) values (242, 'LUSH岚舒 日本正品 条纹奇趣蛋汽泡弹 提升心情果香舒心', 115)\n",
      "243 LUSH岚舒 日本正品 小胖蛋汽泡弹 复活节礼品 115\n",
      "insert into prod_schema.prod_info (pid, pname, pprice) values (243, 'LUSH岚舒 日本正品 小胖蛋汽泡弹 复活节礼品', 115)\n",
      "244 LUSH岚舒 日本正品 无法抗拒按摩芭 滋润保湿去角质护理 镇定肌肤 100\n",
      "insert into prod_schema.prod_info (pid, pname, pprice) values (244, 'LUSH岚舒 日本正品 无法抗拒按摩芭 滋润保湿去角质护理 镇定肌肤', 100)\n",
      "245 LUSH岚舒 日本正品 鱼之乐环保奇迹丝巾 75\n",
      "insert into prod_schema.prod_info (pid, pname, pprice) values (245, 'LUSH岚舒 日本正品 鱼之乐环保奇迹丝巾', 75)\n",
      "246 LUSH岚舒 日本正品 鲜果盛会环保奇迹丝巾 75\n",
      "insert into prod_schema.prod_info (pid, pname, pprice) values (246, 'LUSH岚舒 日本正品 鲜果盛会环保奇迹丝巾', 75)\n",
      "247 LUSH岚舒 日本正品 母亲节礼物 花样妈妈礼盒 165\n",
      "insert into prod_schema.prod_info (pid, pname, pprice) values (247, 'LUSH岚舒 日本正品 母亲节礼物 花样妈妈礼盒', 165)\n",
      "248 LUSH岚舒 日本正品 母亲节礼物 悠闲时光礼盒 400\n",
      "insert into prod_schema.prod_info (pid, pname, pprice) values (248, 'LUSH岚舒 日本正品 母亲节礼物 悠闲时光礼盒', 400)\n",
      "249 LUSH岚舒 日本正品 可人儿沐浴乳 补水保湿全身滋润精油 90\n",
      "insert into prod_schema.prod_info (pid, pname, pprice) values (249, 'LUSH岚舒 日本正品 可人儿沐浴乳 补水保湿全身滋润精油', 90)\n",
      "250 LUSH岚舒 日本正品 小蜜蜂润肤芭 去角质 柔软滋润 磨砂功效 115\n",
      "insert into prod_schema.prod_info (pid, pname, pprice) values (250, 'LUSH岚舒 日本正品 小蜜蜂润肤芭 去角质 柔软滋润 磨砂功效', 115)\n",
      "251 LUSH岚舒 母亲节礼物 小红花环保奇迹丝巾 75\n",
      "insert into prod_schema.prod_info (pid, pname, pprice) values (251, 'LUSH岚舒 母亲节礼物 小红花环保奇迹丝巾', 75)\n",
      "252 LUSH岚舒 日本正品 晨光香氛皂 清新醒神 70\n",
      "insert into prod_schema.prod_info (pid, pname, pprice) values (252, 'LUSH岚舒 日本正品 晨光香氛皂 清新醒神', 70)\n",
      "253 LUSH岚舒日本进口正品甜美母亲汽泡弹粉红黄色滋润沐浴泡澡浴 50\n",
      "insert into prod_schema.prod_info (pid, pname, pprice) values (253, 'LUSH岚舒日本进口正品甜美母亲汽泡弹粉红黄色滋润沐浴泡澡浴', 50)\n",
      "254 LUSH岚舒 日本正品 母亲节礼物 甜美母亲礼盒 460\n",
      "insert into prod_schema.prod_info (pid, pname, pprice) values (254, 'LUSH岚舒 日本正品 母亲节礼物 甜美母亲礼盒', 460)\n",
      "255 LUSH岚舒 日本进口正品 长颈鹿泡泡浴棒  滋润 浴油 精油香薰保湿 115\n",
      "insert into prod_schema.prod_info (pid, pname, pprice) values (255, 'LUSH岚舒 日本进口正品 长颈鹿泡泡浴棒  滋润 浴油 精油香薰保湿', 115)\n",
      "256 LUSH岚舒 日本正品 母亲节礼物 快乐妈妈礼盒 970\n",
      "insert into prod_schema.prod_info (pid, pname, pprice) values (256, 'LUSH岚舒 日本正品 母亲节礼物 快乐妈妈礼盒', 970)\n",
      "257 LUSH岚舒 日本正品 粉色布丁沐浴啫喱 补水保湿全身滋润精油 75\n",
      "insert into prod_schema.prod_info (pid, pname, pprice) values (257, 'LUSH岚舒 日本正品 粉色布丁沐浴啫喱 补水保湿全身滋润精油', 75)\n",
      "258 LUSH岚舒 母亲节礼物 绣球花环保奇迹丝巾 75\n",
      "insert into prod_schema.prod_info (pid, pname, pprice) values (258, 'LUSH岚舒 母亲节礼物 绣球花环保奇迹丝巾', 75)\n",
      "259 LUSH岚舒 日本正品 蜜糖儿唇部磨砂 去除老废角质 香橙甜蜜 100\n",
      "insert into prod_schema.prod_info (pid, pname, pprice) values (259, 'LUSH岚舒 日本正品 蜜糖儿唇部磨砂 去除老废角质 香橙甜蜜', 100)\n",
      "260 LUSH岚舒 日本正品 母亲节礼物 感谢爱礼盒 260\n",
      "insert into prod_schema.prod_info (pid, pname, pprice) values (260, 'LUSH岚舒 日本正品 母亲节礼物 感谢爱礼盒', 260)\n",
      "261 LUSH岚舒 日本正品 母亲节礼物 最佳密友礼盒 390\n",
      "insert into prod_schema.prod_info (pid, pname, pprice) values (261, 'LUSH岚舒 日本正品 母亲节礼物 最佳密友礼盒', 390)\n",
      "262 LUSH岚舒 日本正品 小雏菊汽泡弹 滋润泡澡洗浴留香保湿 60\n",
      "insert into prod_schema.prod_info (pid, pname, pprice) values (262, 'LUSH岚舒 日本正品 小雏菊汽泡弹 滋润泡澡洗浴留香保湿', 60)\n",
      "263 LUSH岚舒 日本进口 花之颂泡泡浴芭  滋润 浴油 精油香薰保湿 85\n",
      "insert into prod_schema.prod_info (pid, pname, pprice) values (263, 'LUSH岚舒 日本进口 花之颂泡泡浴芭  滋润 浴油 精油香薰保湿', 85)\n",
      "264 LUSH岚舒 郁金香环保奇迹丝巾 65\n",
      "insert into prod_schema.prod_info (pid, pname, pprice) values (264, 'LUSH岚舒 郁金香环保奇迹丝巾', 65)\n",
      "265 LUSH岚舒 母亲节礼物 百合花环保奇迹丝巾 65\n",
      "insert into prod_schema.prod_info (pid, pname, pprice) values (265, 'LUSH岚舒 母亲节礼物 百合花环保奇迹丝巾', 65)\n",
      "266 LUSH岚舒 日本进口正品 小绵羊泡泡浴芭  滋润 浴油 精油香薰保湿 65\n",
      "insert into prod_schema.prod_info (pid, pname, pprice) values (266, 'LUSH岚舒 日本进口正品 小绵羊泡泡浴芭  滋润 浴油 精油香薰保湿', 65)\n",
      "267 LUSH岚舒  巧克力唇部磨砂 去除角质 香甜滋味 100\n",
      "insert into prod_schema.prod_info (pid, pname, pprice) values (267, 'LUSH岚舒  巧克力唇部磨砂 去除角质 香甜滋味', 100)\n",
      "268 LUSH岚舒 日本正品 梅梅细雨沐浴露 醒脑提神 柔软肌肤 80\n",
      "insert into prod_schema.prod_info (pid, pname, pprice) values (268, 'LUSH岚舒 日本正品 梅梅细雨沐浴露 醒脑提神 柔软肌肤', 80)\n",
      "269 LUSH岚舒 日本正品 柠檬香薰磨砂芭 温和去角质 精油 补水沐浴 90\n",
      "insert into prod_schema.prod_info (pid, pname, pprice) values (269, 'LUSH岚舒 日本正品 柠檬香薰磨砂芭 温和去角质 精油 补水沐浴', 90)\n",
      "270 LUSH岚舒 日本正品 皇者肌肤润肤芭 滋润保湿补水 提亮肤色精油 90\n",
      "insert into prod_schema.prod_info (pid, pname, pprice) values (270, 'LUSH岚舒 日本正品 皇者肌肤润肤芭 滋润保湿补水 提亮肤色精油', 90)\n"
     ]
    }
   ],
   "source": [
    "for i in range(len(sf)):\n",
    "    insert_prod(sf[i], config)"
   ]
  },
  {
   "cell_type": "code",
   "execution_count": 20,
   "metadata": {
    "collapsed": false
   },
   "outputs": [],
   "source": [
    "for i in range(len(sf)):\n",
    "    image_str = sf[i]['imageList']\n",
    "    pid = sf[i]['offerId']\n",
    "    insert_img_srcs(image_str, pid, config)"
   ]
  },
  {
   "cell_type": "code",
   "execution_count": 17,
   "metadata": {
    "collapsed": false
   },
   "outputs": [
    {
     "data": {
      "text/plain": [
       "True"
      ]
     },
     "execution_count": 17,
     "metadata": {},
     "output_type": "execute_result"
    }
   ],
   "source": [
    "sql = \"delete from prod_schema.prod_info where pid = %d\" % 231\n",
    "db_execute(config, sql)"
   ]
  },
  {
   "cell_type": "code",
   "execution_count": 22,
   "metadata": {
    "collapsed": false
   },
   "outputs": [
    {
     "data": {
      "text/plain": [
       "{'100000192': '\\xe4\\xb8\\xad\\xe6\\x80\\xa7',\n",
       " '100186675': '\\xe6\\xad\\xa3\\xe5\\xb8\\xb8\\xe8\\xa7\\x84\\xe6\\xa0\\xbc',\n",
       " '101428437': '\\xe4\\xb8\\xb0\\xe7\\x9b\\x88\\xe6\\xb4\\x97\\xe5\\x8f\\x91\\xe9\\x9c\\xb2 Big',\n",
       " '119140111': '\\xe5\\x90\\xa6',\n",
       " '1654': 'others',\n",
       " '2176': 'LUSH',\n",
       " '3216': 'other',\n",
       " '4341': '204,,175',\n",
       " '446': 'other1',\n",
       " '7869': '\\xe5\\x90\\xa6',\n",
       " '8795': '\\xe4\\xb8\\xb0\\xe7\\x9b\\x88\\xe8\\x93\\xac\\xe6\\x9d\\xbe'}"
      ]
     },
     "execution_count": 22,
     "metadata": {},
     "output_type": "execute_result"
    }
   ],
   "source": [
    "sf[0]['productFeatureList']"
   ]
  },
  {
   "cell_type": "code",
   "execution_count": 54,
   "metadata": {
    "collapsed": true
   },
   "outputs": [],
   "source": [
    "num_name_map = {\n",
    "    '7199': 'year',\n",
    "    '3216': 'color',\n",
    "    '1459': 'wrap',\n",
    "    '100048233': 'component',\n",
    "    '100000192': 'suit',\n",
    "    '101428437': 'serie',\n",
    "    '917': 'spf',\n",
    "    '7101': 'male',\n",
    "    '8795': 'func',\n",
    "    '1654': 'volume'\n",
    "}"
   ]
  },
  {
   "cell_type": "markdown",
   "metadata": {},
   "source": [
    "Get parameter dictionary for insert into database"
   ]
  },
  {
   "cell_type": "code",
   "execution_count": 55,
   "metadata": {
    "collapsed": false
   },
   "outputs": [],
   "source": [
    "def gener_para_dic(dic, num_name_map):\n",
    "    result_dict = {\n",
    "        'year':'',\n",
    "        'color':'',\n",
    "        'wrap':'',\n",
    "        'component':'',\n",
    "        'suit':'',\n",
    "        'serie':'',\n",
    "        'spf':'',\n",
    "        'male':'',\n",
    "        'func':'',\n",
    "        'volume':''\n",
    "    }\n",
    "    feature_dict = dic['productFeatureList']\n",
    "    for key in num_name_map:\n",
    "        if key in feature_dict:\n",
    "            value = feature_dict[key]\n",
    "            result_dict[num_name_map[key]] = value\n",
    "    return result_dict"
   ]
  },
  {
   "cell_type": "code",
   "execution_count": 56,
   "metadata": {
    "collapsed": false
   },
   "outputs": [
    {
     "name": "stdout",
     "output_type": "stream",
     "text": [
      "volume others\n",
      "wrap \n",
      "male \n",
      "spf \n",
      "func 丰盈蓬松\n",
      "year \n",
      "color other\n",
      "suit 中性\n",
      "component \n",
      "serie 丰盈洗发露 Big\n"
     ]
    }
   ],
   "source": [
    "result = gener_para_dic(sf[0], num_name_map)\n",
    "for key in result:\n",
    "    print key, result[key].decode('utf-8')"
   ]
  },
  {
   "cell_type": "code",
   "execution_count": 71,
   "metadata": {
    "collapsed": true
   },
   "outputs": [],
   "source": [
    "def insert_para(pid, result_dic, config):\n",
    "    sql = \"insert into prod_schema.prod_attri (pid, year, color, wrap, component, suit, serie, \\\n",
    "spf, male, func, volume ) values \\\n",
    "    (%d, \\\"%s\\\", \\\"%s\\\", \\\"%s\\\", \\\"%s\\\", \\\"%s\\\", \\\"%s\\\", \\\"%s\\\", \\\"%s\\\",\\\"%s\\\",\\\"%s\\\")\" % (pid,\n",
    "                                                                       result_dic['year'],\n",
    "                                                                       result_dic['color'],\n",
    "                                                                       result_dic['wrap'],\n",
    "                                                                       result_dic['component'],\n",
    "                                                                       result_dic['suit'],\n",
    "                                                                       result_dic['serie'],\n",
    "                                                                       result_dic['spf'],\n",
    "                                                                       result_dic['male'],\n",
    "                                                                       result_dic['func'],\n",
    "                                                                       result_dic['volume']\n",
    "                                                                      )\n",
    "    #print sql\n",
    "    return db_execute(config, sql)"
   ]
  },
  {
   "cell_type": "code",
   "execution_count": 69,
   "metadata": {
    "collapsed": false
   },
   "outputs": [
    {
     "name": "stdout",
     "output_type": "stream",
     "text": [
      "insert into prod_schema.prod_attri (pid, year, color, wrap, component, suit, serie, spf, male, func, volume ) values     (1, \"\", \"other\", \"\", \"\", \"中性\", \"传说中的面霜 Skin's Shangri La\", \"\", \"\",\"提亮肤色\",\"others\")\n"
     ]
    }
   ],
   "source": [
    "insert_para(1, gener_para_dic(sf[39], num_name_map), config)"
   ]
  },
  {
   "cell_type": "code",
   "execution_count": 74,
   "metadata": {
    "collapsed": false
   },
   "outputs": [],
   "source": [
    "for i in range(len(sf)):\n",
    "    result_dict = gener_para_dic(sf[i], num_name_map)\n",
    "    pid = sf[i]['offerId']\n",
    "    insert_para(pid, result_dict, config)"
   ]
  },
  {
   "cell_type": "code",
   "execution_count": 73,
   "metadata": {
    "collapsed": true
   },
   "outputs": [],
   "source": [
    "for i in range(150):\n",
    "    sql = \"delete from prod_schema.prod_attri where pid = %d\" % i\n",
    "    db_execute(config, sql)"
   ]
  },
  {
   "cell_type": "code",
   "execution_count": null,
   "metadata": {
    "collapsed": true
   },
   "outputs": [],
   "source": []
  }
 ],
 "metadata": {
  "anaconda-cloud": {},
  "kernelspec": {
   "display_name": "Python [gl-env]",
   "language": "python",
   "name": "Python [gl-env]"
  },
  "language_info": {
   "codemirror_mode": {
    "name": "ipython",
    "version": 2
   },
   "file_extension": ".py",
   "mimetype": "text/x-python",
   "name": "python",
   "nbconvert_exporter": "python",
   "pygments_lexer": "ipython2",
   "version": "2.7.12"
  }
 },
 "nbformat": 4,
 "nbformat_minor": 0
}
